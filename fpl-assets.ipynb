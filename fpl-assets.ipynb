{
 "cells": [
  {
   "cell_type": "code",
   "execution_count": null,
   "metadata": {
    "scrolled": true
   },
   "outputs": [],
   "source": [
    "import requests\n",
    "import pandas as pd\n",
    "import numpy as np\n",
    "import matplotlib as plt\n",
    "import plotly.express as px\n",
    "# For plotly to work you also need to install the statsmodels package as well\n",
    "\n",
    "# Get live data from FPL site. Not necessary to do every time. \n",
    "# TODO: Write to a file and pull from that instead\n",
    "url = 'https://fantasy.premierleague.com/api/bootstrap-static/'\n",
    "r = requests.get(url)\n",
    "json = r.json()\n",
    "json.keys()\n",
    "\n",
    "elements_df = pd.DataFrame(json['elements'])\n",
    "elements_types_df = pd.DataFrame(json['element_types'])\n",
    "teams_df = pd.DataFrame(json['teams'])\n",
    "\n",
    "# Uncomment to see all columns\n",
    "# elements_df.columns\n",
    "\n",
    "# Adding .copy() operation to avoid hidden chaining and ensuring data integrity\n",
    "slim_elements_df = elements_df[['first_name','second_name', 'team', 'element_type','selected_by_percent','now_cost','minutes','total_points', 'value_season']].copy()\n",
    "\n",
    "# Change from positional values to their actual names\n",
    "slim_elements_df['position'] = slim_elements_df.element_type.map(elements_types_df.set_index('id').singular_name)\n",
    "\n",
    "# Replace team integer IDs with actual team names\n",
    "slim_elements_df['team'] = slim_elements_df.team.map(teams_df.set_index('id').name)\n",
    "\n",
    "# Add value column as a float type, so we can then use it fo\n",
    "slim_elements_df['value'] = slim_elements_df.value_season.astype(float)\n",
    "\n",
    "slim_elements_df = slim_elements_df.loc[slim_elements_df.value > 0]\n",
    "slim_elements_df = slim_elements_df.loc[slim_elements_df.minutes > 500]\n",
    "\n",
    "# TODO: Divide points by minutes * 90 to get points per 90, that over cost is better than value. minutes can be size\n",
    "# TODO: Drop Stuart Dallas and anyone injured\n",
    "\n",
    "# Combinging first and last name into a single column\n",
    "slim_elements_df['name'] = slim_elements_df['first_name'] + ' ' + slim_elements_df['second_name']\n",
    "\n",
    "# Convert now_cost into cost, make it a decimal\n",
    "slim_elements_df['cost'] = (slim_elements_df.now_cost.astype(float) / 10)\n",
    "\n",
    "# Create a points per 90 minutes column, rounding to 2 decimal places\n",
    "slim_elements_df['points_per_90'] = (slim_elements_df['total_points'] / slim_elements_df['minutes'] * 90).round(2)\n",
    "\n",
    "# Creating a final dataframe with only the elements we want again\n",
    "\n",
    "fpl_players = slim_elements_df[['name', 'position', 'minutes', 'cost', 'total_points', 'value', 'points_per_90']]\n",
    "#fpl_players.head(10)\n",
    "\n",
    "# Generating position specific tables if you want\n",
    "# mid_df = fpl_players.loc[slim_elements_df.position == 'Midfielder']\n",
    "# Output a table of the top 35 midfielders by points per 90\n",
    "#mid_df.sort_values(by=['points_per_90'],ascending=False).head(35)\n",
    "\n",
    "fpl_players.to_csv(\"/home/adam/jupyter/fpl/fpl_players.csv\")\n",
    "\n",
    "# Make a scatter graph of points per 90 by cost\n",
    "\n",
    "# value_plot = px.scatter(fpl_players,\n",
    "#                            x='cost',\n",
    "#                            y='points_per_90',\n",
    "#                            size='total_points',\n",
    "#                            trendline=\"ols\",\n",
    "#                            color='position',\n",
    "#                            hover_data=['name'])\n",
    "# value_plot.write_html(\"/home/adam/jupyter/fpl/fpl_value_plot.html\")\n",
    "# value_plot.show()\n"
   ]
  },
  {
   "cell_type": "code",
   "execution_count": null,
   "metadata": {},
   "outputs": [],
   "source": []
  },
  {
   "cell_type": "code",
   "execution_count": null,
   "metadata": {},
   "outputs": [],
   "source": []
  },
  {
   "cell_type": "code",
   "execution_count": null,
   "metadata": {},
   "outputs": [],
   "source": []
  }
 ],
 "metadata": {
  "kernelspec": {
   "display_name": "Python 3",
   "language": "python",
   "name": "python3"
  },
  "language_info": {
   "codemirror_mode": {
    "name": "ipython",
    "version": 3
   },
   "file_extension": ".py",
   "mimetype": "text/x-python",
   "name": "python",
   "nbconvert_exporter": "python",
   "pygments_lexer": "ipython3",
   "version": "3.7.6"
  }
 },
 "nbformat": 4,
 "nbformat_minor": 4
}
