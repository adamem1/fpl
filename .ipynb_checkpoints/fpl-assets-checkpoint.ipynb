{
 "cells": [
  {
   "cell_type": "code",
   "execution_count": 3,
   "metadata": {
    "scrolled": true
   },
   "outputs": [
    {
     "data": {
      "application/vnd.plotly.v1+json": {
       "config": {
        "plotlyServerURL": "https://plot.ly"
       },
       "data": [
        {
         "customdata": [
          [
           "Bernd Leno"
          ],
          [
           "Emiliano Martínez"
          ],
          [
           "Mathew Ryan"
          ],
          [
           "Robert Sánchez"
          ],
          [
           "Nick Pope"
          ],
          [
           "Kepa Arrizabalaga"
          ],
          [
           "Edouard Mendy"
          ],
          [
           "Vicente Guaita"
          ],
          [
           "Jordan Pickford"
          ],
          [
           "Kasper Schmeichel"
          ],
          [
           "Illan Meslier"
          ],
          [
           "Alisson Ramses Becker"
          ],
          [
           "Ederson Santana de Moraes"
          ],
          [
           "David de Gea"
          ],
          [
           "Dean Henderson"
          ],
          [
           "Karl Darlow"
          ],
          [
           "Martin Dubravka"
          ],
          [
           "Fraser Forster"
          ],
          [
           "Alex McCarthy"
          ],
          [
           "Hugo Lloris"
          ],
          [
           "Lukasz Fabianski"
          ],
          [
           "Rui Pedro dos Santos Patrício"
          ]
         ],
         "hovertemplate": "position=Goalkeeper<br>cost=%{x}<br>points_per_90=%{y}<br>total_points=%{marker.size}<br>name=%{customdata[0]}<extra></extra>",
         "legendgroup": "Goalkeeper",
         "marker": {
          "color": "#636efa",
          "size": [
           131,
           186,
           37,
           101,
           144,
           26,
           140,
           124,
           114,
           128,
           154,
           140,
           160,
           91,
           44,
           80,
           48,
           30,
           94,
           149,
           133,
           132
          ],
          "sizemode": "area",
          "sizeref": 0.61,
          "symbol": "circle"
         },
         "mode": "markers",
         "name": "Goalkeeper",
         "orientation": "v",
         "showlegend": true,
         "type": "scatter",
         "x": [
          5,
          5.5,
          4.5,
          4.5,
          5.5,
          5,
          6,
          4.5,
          5,
          5,
          5,
          6,
          6,
          5,
          5,
          4.5,
          4.5,
          4.5,
          4.5,
          5.5,
          5,
          5
         ],
         "xaxis": "x",
         "y": [
          3.77,
          4.89,
          2.64,
          3.74,
          4.5,
          4,
          4.59,
          3.35,
          3.74,
          3.37,
          4.4,
          4.24,
          4.44,
          3.57,
          3.52,
          3.2,
          3.69,
          3.75,
          3.13,
          3.92,
          3.8,
          3.57
         ],
         "yaxis": "y"
        },
        {
         "hovertemplate": "<b>OLS trendline</b><br>points_per_90 = 0.80025 * cost + -0.227625<br>R<sup>2</sup>=0.575810<br><br>position=Goalkeeper<br>cost=%{x}<br>points_per_90=%{y} <b>(trend)</b><extra></extra>",
         "legendgroup": "Goalkeeper",
         "marker": {
          "color": "#636efa",
          "symbol": "circle"
         },
         "mode": "lines",
         "name": "Goalkeeper",
         "showlegend": false,
         "type": "scatter",
         "x": [
          4.5,
          4.5,
          4.5,
          4.5,
          4.5,
          4.5,
          4.5,
          5,
          5,
          5,
          5,
          5,
          5,
          5,
          5,
          5,
          5.5,
          5.5,
          5.5,
          6,
          6,
          6
         ],
         "xaxis": "x",
         "y": [
          3.373499999999999,
          3.373499999999999,
          3.373499999999999,
          3.373499999999999,
          3.373499999999999,
          3.373499999999999,
          3.373499999999999,
          3.773624999999999,
          3.773624999999999,
          3.773624999999999,
          3.773624999999999,
          3.773624999999999,
          3.773624999999999,
          3.773624999999999,
          3.773624999999999,
          3.773624999999999,
          4.173749999999999,
          4.173749999999999,
          4.173749999999999,
          4.573874999999999,
          4.573874999999999,
          4.573874999999999
         ],
         "yaxis": "y"
        },
        {
         "customdata": [
          [
           "Willian Borges Da Silva"
          ],
          [
           "Granit Xhaka"
          ],
          [
           "Mohamed Naser El Sayed Elneny"
          ],
          [
           "Ainsley Maitland-Niles"
          ],
          [
           "Thomas Partey"
          ],
          [
           "Nicolas Pépé"
          ],
          [
           "Joseph Willock"
          ],
          [
           "Emile Smith Rowe"
          ],
          [
           "Bukayo Saka"
          ],
          [
           "Gabriel Teodoro Martinelli Silva"
          ],
          [
           "Bertrand Traoré"
          ],
          [
           "Jack Grealish"
          ],
          [
           "John McGinn"
          ],
          [
           "Mahmoud Ahmed Ibrahim Hassan"
          ],
          [
           "Marvelous Nakamba"
          ],
          [
           "Anwar El Ghazi"
          ],
          [
           "Douglas Luiz Soares de Paulo"
          ],
          [
           "Jacob Ramsey"
          ],
          [
           "Adam Lallana"
          ],
          [
           "Pascal Groß"
          ],
          [
           "Solomon March"
          ],
          [
           "Leandro Trossard"
          ],
          [
           "Alireza Jahanbakhsh"
          ],
          [
           "Yves Bissouma"
          ],
          [
           "Steven Alzate"
          ],
          [
           "Alexis Mac Allister"
          ],
          [
           "Jakub Moder"
          ],
          [
           "Jack Cork"
          ],
          [
           "Ashley Westwood"
          ],
          [
           "Johann Berg Gudmundsson"
          ],
          [
           "Josh Brownhill"
          ],
          [
           "Dwight McNeil"
          ],
          [
           "Jorge Luiz Frello Filho"
          ],
          [
           "Ross Barkley"
          ],
          [
           "Mateo Kovacic"
          ],
          [
           "N'Golo Kanté"
          ],
          [
           "Hakim Ziyech"
          ],
          [
           "Ruben Loftus-Cheek"
          ],
          [
           "Christian Pulisic"
          ],
          [
           "Mason Mount"
          ],
          [
           "Callum Hudson-Odoi"
          ],
          [
           "Kai Havertz"
          ],
          [
           "Conor Gallagher"
          ],
          [
           "James McArthur"
          ],
          [
           "Luka Milivojevic"
          ],
          [
           "Wilfried Zaha"
          ],
          [
           "Jeffrey Schlupp"
          ],
          [
           "Jairo Riedewald"
          ],
          [
           "Eberechi Eze"
          ],
          [
           "Gylfi Sigurdsson"
          ],
          [
           "James Rodríguez"
          ],
          [
           "Allan Marques Loureiro"
          ],
          [
           "André Filipe Tavares Gomes"
          ],
          [
           "Abdoulaye Doucouré"
          ],
          [
           "Alex Iwobi"
          ],
          [
           "Tom Davies"
          ],
          [
           "Marc Albrighton"
          ],
          [
           "Nampalys Mendy"
          ],
          [
           "Dennis Praet"
          ],
          [
           "Youri Tielemans"
          ],
          [
           "Ayoze Pérez"
          ],
          [
           "James Maddison"
          ],
          [
           "Harvey Barnes"
          ],
          [
           "Wilfred Ndidi"
          ],
          [
           "Mateusz Klich"
          ],
          [
           "Stuart Dallas"
          ],
          [
           "Kalvin Phillips"
          ],
          [
           "Hélder Wander Sousa de Azevedo e Costa"
          ],
          [
           "Tyler Roberts"
          ],
          [
           "Raphael Dias Belloli"
          ],
          [
           "Jack Harrison"
          ],
          [
           "James Milner"
          ],
          [
           "Jordan Henderson"
          ],
          [
           "Thiago Alcántara do Nascimento"
          ],
          [
           "Xherdan Shaqiri"
          ],
          [
           "Sadio Mané"
          ],
          [
           "Fabio Henrique Tavares"
          ],
          [
           "Mohamed Salah"
          ],
          [
           "Takumi Minamino"
          ],
          [
           "Naby Keita"
          ],
          [
           "Diogo Jota"
          ],
          [
           "Curtis Jones"
          ],
          [
           "Ilkay Gündogan"
          ],
          [
           "Kevin De Bruyne"
          ],
          [
           "Riyad Mahrez"
          ],
          [
           "Raheem Sterling"
          ],
          [
           "Bernardo Mota Veiga de Carvalho e Silva"
          ],
          [
           "Phil Foden"
          ],
          [
           "Rodrigo Hernandez"
          ],
          [
           "Ferran Torres"
          ],
          [
           "Fernando Luiz Rosa"
          ],
          [
           "Nemanja Matic"
          ],
          [
           "Paul Pogba"
          ],
          [
           "Frederico Rodrigues de Paula Santos"
          ],
          [
           "Jesse Lingard"
          ],
          [
           "Bruno Miguel Borges Fernandes"
          ],
          [
           "Marcus Rashford"
          ],
          [
           "Donny van de Beek"
          ],
          [
           "Scott McTominay"
          ],
          [
           "Daniel James"
          ],
          [
           "Mason Greenwood"
          ],
          [
           "Juan Mata"
          ],
          [
           "Jonjo Shelvey"
          ],
          [
           "Jeff Hendrick"
          ],
          [
           "Ryan Fraser"
          ],
          [
           "Jacob Murphy"
          ],
          [
           "Isaac Hayden"
          ],
          [
           "Miguel Almirón"
          ],
          [
           "Sean Longstaff"
          ],
          [
           "Theo Walcott"
          ],
          [
           "Oriol Romeu Vidal"
          ],
          [
           "Nathan Redmond"
          ],
          [
           "Stuart Armstrong"
          ],
          [
           "James Ward-Prowse"
          ],
          [
           "Nathan Tella"
          ],
          [
           "Ibrahima Diallo"
          ],
          [
           "Moussa Djenepo"
          ],
          [
           "Moussa Sissoko"
          ],
          [
           "Erik Lamela"
          ],
          [
           "Heung-Min Son"
          ],
          [
           "Lucas Rodrigues Moura da Silva"
          ],
          [
           "Bamidele Alli"
          ],
          [
           "Pierre-Emile Højbjerg"
          ],
          [
           "Harry Winks"
          ],
          [
           "Steven Bergwijn"
          ],
          [
           "Giovani Lo Celso"
          ],
          [
           "Tanguy Ndombele"
          ],
          [
           "Mark Noble"
          ],
          [
           "Manuel Lanzini"
          ],
          [
           "Saïd Benrahma"
          ],
          [
           "Jarrod Bowen"
          ],
          [
           "Declan Rice"
          ],
          [
           "Tomas Soucek"
          ],
          [
           "Pablo Fornals"
          ],
          [
           "João Filipe Iria Santos Moutinho"
          ],
          [
           "Leander Dendoncker"
          ],
          [
           "Adama Traoré"
          ],
          [
           "Rúben Diogo da Silva Neves"
          ],
          [
           "Daniel Castelo Podence"
          ],
          [
           "Pedro Lomba Neto"
          ]
         ],
         "hovertemplate": "position=Midfielder<br>cost=%{x}<br>points_per_90=%{y}<br>total_points=%{marker.size}<br>name=%{customdata[0]}<extra></extra>",
         "legendgroup": "Midfielder",
         "marker": {
          "color": "#EF553B",
          "size": [
           78,
           70,
           50,
           68,
           47,
           114,
           79,
           74,
           114,
           36,
           135,
           135,
           114,
           56,
           27,
           111,
           72,
           28,
           58,
           116,
           69,
           132,
           24,
           77,
           35,
           48,
           21,
           33,
           112,
           50,
           74,
           113,
           114,
           76,
           54,
           62,
           70,
           66,
           82,
           147,
           59,
           91,
           71,
           45,
           63,
           136,
           65,
           64,
           125,
           122,
           101,
           47,
           48,
           80,
           65,
           47,
           78,
           41,
           37,
           133,
           58,
           133,
           126,
           79,
           99,
           171,
           67,
           63,
           49,
           133,
           160,
           44,
           56,
           55,
           26,
           176,
           71,
           231,
           48,
           15,
           86,
           50,
           157,
           141,
           145,
           154,
           94,
           135,
           91,
           95,
           65,
           36,
           92,
           69,
           106,
           244,
           174,
           32,
           91,
           43,
           106,
           32,
           74,
           52,
           39,
           69,
           40,
           97,
           41,
           76,
           52,
           67,
           115,
           156,
           36,
           31,
           46,
           44,
           28,
           228,
           80,
           30,
           107,
           19,
           55,
           35,
           99,
           27,
           28,
           73,
           141,
           86,
           147,
           125,
           73,
           77,
           94,
           104,
           75,
           124
          ],
          "sizemode": "area",
          "sizeref": 0.61,
          "symbol": "circle"
         },
         "mode": "markers",
         "name": "Midfielder",
         "orientation": "v",
         "showlegend": true,
         "type": "scatter",
         "x": [
          6.5,
          5,
          4.5,
          5.5,
          5,
          7.5,
          6,
          5.5,
          6.5,
          5.5,
          6,
          8,
          6,
          5.5,
          4.5,
          6,
          4.5,
          4.5,
          5.5,
          6,
          5.5,
          6.5,
          5.5,
          4.5,
          5,
          5.5,
          4.5,
          4.5,
          5.5,
          5.5,
          4.5,
          6,
          6,
          5.5,
          5,
          5,
          7.5,
          5.5,
          8,
          7.5,
          5.5,
          8.5,
          5.5,
          4.5,
          5.5,
          7,
          5.5,
          5,
          6,
          7,
          7,
          4.5,
          5,
          5.5,
          6,
          5,
          5.5,
          4.5,
          5,
          6.5,
          6,
          7,
          7,
          5,
          5.5,
          5.5,
          5,
          5.5,
          5,
          6.5,
          6,
          5,
          5,
          5.5,
          6,
          12,
          5.5,
          12.5,
          5.5,
          5,
          7.5,
          5,
          7.5,
          12,
          9,
          11,
          7,
          8,
          5.5,
          7,
          5,
          4.5,
          7.5,
          5,
          7,
          12,
          9.5,
          6,
          5.5,
          6,
          7.5,
          5,
          5.5,
          5,
          5.5,
          5,
          4.5,
          5.5,
          4.5,
          6,
          4.5,
          6,
          6,
          6.5,
          5,
          4.5,
          5.5,
          4.5,
          6,
          10,
          6.5,
          6.5,
          5,
          4.5,
          6,
          6,
          6,
          4.5,
          6,
          6,
          6.5,
          5,
          6,
          6,
          5,
          5,
          6,
          5.5,
          5.5,
          6.5
         ],
         "xaxis": "x",
         "y": [
          5.02,
          2.5,
          2.93,
          3.57,
          2.77,
          6.39,
          5.88,
          4.63,
          4.02,
          5.57,
          5.25,
          5.57,
          3.08,
          4.36,
          3.25,
          6.23,
          2.33,
          4.12,
          3.3,
          4.21,
          3.72,
          4.57,
          4.15,
          2.23,
          3.53,
          3.9,
          2.94,
          2.2,
          2.96,
          3.31,
          2.37,
          3.31,
          5.11,
          4.37,
          2.69,
          2.61,
          5.41,
          3.03,
          4.26,
          4.58,
          5.06,
          5.42,
          2.53,
          2.76,
          2.41,
          4.69,
          4.13,
          3.18,
          4.4,
          4.89,
          5.16,
          2.06,
          2.77,
          2.95,
          3.82,
          2.99,
          4.05,
          2.54,
          4.66,
          3.57,
          3.95,
          5.72,
          5.83,
          3.27,
          3.73,
          4.51,
          2.48,
          4.93,
          3.32,
          5.08,
          5.06,
          3.75,
          2.96,
          2.67,
          4.27,
          5.64,
          2.49,
          6.76,
          4.32,
          2.61,
          7,
          3.85,
          6.98,
          6.36,
          6.71,
          5.47,
          4.1,
          7.56,
          2.98,
          6.59,
          4.95,
          2.94,
          4.38,
          2.6,
          6.7,
          7.08,
          5.37,
          5.64,
          3.86,
          4.27,
          5.26,
          5.68,
          2.55,
          3.3,
          3.81,
          3.84,
          1.85,
          3.6,
          2.63,
          4.2,
          2.66,
          3.49,
          3.74,
          4.11,
          4.41,
          2.76,
          3.37,
          2.51,
          3.6,
          6.58,
          5.15,
          4.4,
          2.82,
          2,
          4.12,
          3.35,
          4.27,
          3.47,
          4.53,
          4.77,
          4.96,
          2.69,
          3.87,
          4.38,
          2.6,
          2.77,
          3.2,
          3.51,
          4.06,
          4.38
         ],
         "yaxis": "y"
        },
        {
         "hovertemplate": "<b>OLS trendline</b><br>points_per_90 = 0.596123 * cost + 0.475874<br>R<sup>2</sup>=0.519239<br><br>position=Midfielder<br>cost=%{x}<br>points_per_90=%{y} <b>(trend)</b><extra></extra>",
         "legendgroup": "Midfielder",
         "marker": {
          "color": "#EF553B",
          "symbol": "circle"
         },
         "mode": "lines",
         "name": "Midfielder",
         "showlegend": false,
         "type": "scatter",
         "x": [
          4.5,
          4.5,
          4.5,
          4.5,
          4.5,
          4.5,
          4.5,
          4.5,
          4.5,
          4.5,
          4.5,
          4.5,
          4.5,
          4.5,
          4.5,
          4.5,
          4.5,
          4.5,
          4.5,
          5,
          5,
          5,
          5,
          5,
          5,
          5,
          5,
          5,
          5,
          5,
          5,
          5,
          5,
          5,
          5,
          5,
          5,
          5,
          5,
          5,
          5,
          5,
          5,
          5,
          5,
          5.5,
          5.5,
          5.5,
          5.5,
          5.5,
          5.5,
          5.5,
          5.5,
          5.5,
          5.5,
          5.5,
          5.5,
          5.5,
          5.5,
          5.5,
          5.5,
          5.5,
          5.5,
          5.5,
          5.5,
          5.5,
          5.5,
          5.5,
          5.5,
          5.5,
          5.5,
          5.5,
          5.5,
          5.5,
          5.5,
          5.5,
          5.5,
          6,
          6,
          6,
          6,
          6,
          6,
          6,
          6,
          6,
          6,
          6,
          6,
          6,
          6,
          6,
          6,
          6,
          6,
          6,
          6,
          6,
          6,
          6,
          6,
          6,
          6,
          6.5,
          6.5,
          6.5,
          6.5,
          6.5,
          6.5,
          6.5,
          6.5,
          6.5,
          6.5,
          7,
          7,
          7,
          7,
          7,
          7,
          7,
          7,
          7.5,
          7.5,
          7.5,
          7.5,
          7.5,
          7.5,
          7.5,
          8,
          8,
          8,
          8.5,
          9,
          9.5,
          10,
          11,
          12,
          12,
          12,
          12.5
         ],
         "xaxis": "x",
         "y": [
          3.158428335232836,
          3.158428335232836,
          3.158428335232836,
          3.158428335232836,
          3.158428335232836,
          3.158428335232836,
          3.158428335232836,
          3.158428335232836,
          3.158428335232836,
          3.158428335232836,
          3.158428335232836,
          3.158428335232836,
          3.158428335232836,
          3.158428335232836,
          3.158428335232836,
          3.158428335232836,
          3.158428335232836,
          3.158428335232836,
          3.158428335232836,
          3.456489879127406,
          3.456489879127406,
          3.456489879127406,
          3.456489879127406,
          3.456489879127406,
          3.456489879127406,
          3.456489879127406,
          3.456489879127406,
          3.456489879127406,
          3.456489879127406,
          3.456489879127406,
          3.456489879127406,
          3.456489879127406,
          3.456489879127406,
          3.456489879127406,
          3.456489879127406,
          3.456489879127406,
          3.456489879127406,
          3.456489879127406,
          3.456489879127406,
          3.456489879127406,
          3.456489879127406,
          3.456489879127406,
          3.456489879127406,
          3.456489879127406,
          3.456489879127406,
          3.754551423021975,
          3.754551423021975,
          3.754551423021975,
          3.754551423021975,
          3.754551423021975,
          3.754551423021975,
          3.754551423021975,
          3.754551423021975,
          3.754551423021975,
          3.754551423021975,
          3.754551423021975,
          3.754551423021975,
          3.754551423021975,
          3.754551423021975,
          3.754551423021975,
          3.754551423021975,
          3.754551423021975,
          3.754551423021975,
          3.754551423021975,
          3.754551423021975,
          3.754551423021975,
          3.754551423021975,
          3.754551423021975,
          3.754551423021975,
          3.754551423021975,
          3.754551423021975,
          3.754551423021975,
          3.754551423021975,
          3.754551423021975,
          3.754551423021975,
          3.754551423021975,
          3.754551423021975,
          4.052612966916544,
          4.052612966916544,
          4.052612966916544,
          4.052612966916544,
          4.052612966916544,
          4.052612966916544,
          4.052612966916544,
          4.052612966916544,
          4.052612966916544,
          4.052612966916544,
          4.052612966916544,
          4.052612966916544,
          4.052612966916544,
          4.052612966916544,
          4.052612966916544,
          4.052612966916544,
          4.052612966916544,
          4.052612966916544,
          4.052612966916544,
          4.052612966916544,
          4.052612966916544,
          4.052612966916544,
          4.052612966916544,
          4.052612966916544,
          4.052612966916544,
          4.052612966916544,
          4.350674510811114,
          4.350674510811114,
          4.350674510811114,
          4.350674510811114,
          4.350674510811114,
          4.350674510811114,
          4.350674510811114,
          4.350674510811114,
          4.350674510811114,
          4.350674510811114,
          4.648736054705683,
          4.648736054705683,
          4.648736054705683,
          4.648736054705683,
          4.648736054705683,
          4.648736054705683,
          4.648736054705683,
          4.648736054705683,
          4.946797598600253,
          4.946797598600253,
          4.946797598600253,
          4.946797598600253,
          4.946797598600253,
          4.946797598600253,
          4.946797598600253,
          5.244859142494822,
          5.244859142494822,
          5.244859142494822,
          5.542920686389391,
          5.840982230283961,
          6.13904377417853,
          6.4371053180731,
          7.033228405862238,
          7.629351493651377,
          7.629351493651377,
          7.629351493651377,
          7.927413037545946
         ],
         "yaxis": "y"
        },
        {
         "customdata": [
          [
           "Pierre-Emerick Aubameyang"
          ],
          [
           "Alexandre Lacazette"
          ],
          [
           "Ollie Watkins"
          ],
          [
           "Neal Maupay"
          ],
          [
           "Aaron Connolly"
          ],
          [
           "Danny Welbeck"
          ],
          [
           "Jay Rodriguez"
          ],
          [
           "Ashley Barnes"
          ],
          [
           "Chris Wood"
          ],
          [
           "Matej Vydra"
          ],
          [
           "Olivier Giroud"
          ],
          [
           "Michy Batshuayi"
          ],
          [
           "Timo Werner"
          ],
          [
           "Tammy Abraham"
          ],
          [
           "Christian Benteke"
          ],
          [
           "Jordan Ayew"
          ],
          [
           "Dominic Calvert-Lewin"
          ],
          [
           "Richarlison de Andrade"
          ],
          [
           "Jamie Vardy"
          ],
          [
           "Kelechi Iheanacho"
          ],
          [
           "Rodrigo Moreno"
          ],
          [
           "Patrick Bamford"
          ],
          [
           "Roberto Firmino"
          ],
          [
           "Gabriel Fernando de Jesus"
          ],
          [
           "Edinson Cavani"
          ],
          [
           "Anthony Martial"
          ],
          [
           "Callum Wilson"
          ],
          [
           "Dwight Gayle"
          ],
          [
           "Allan Saint-Maximin"
          ],
          [
           "Joelinton Cássio Apolinário de Lira"
          ],
          [
           "Danny Ings"
          ],
          [
           "Che Adams"
          ],
          [
           "Harry Kane"
          ],
          [
           "Michail Antonio"
          ],
          [
           "Raúl Jiménez"
          ],
          [
           "Fabio Silva"
          ]
         ],
         "hovertemplate": "position=Forward<br>cost=%{x}<br>points_per_90=%{y}<br>total_points=%{marker.size}<br>name=%{customdata[0]}<extra></extra>",
         "legendgroup": "Forward",
         "marker": {
          "color": "#00cc96",
          "size": [
           131,
           129,
           168,
           105,
           38,
           89,
           54,
           52,
           138,
           62,
           47,
           41,
           128,
           69,
           106,
           70,
           165,
           123,
           187,
           110,
           89,
           194,
           141,
           115,
           99,
           75,
           134,
           31,
           85,
           74,
           131,
           137,
           242,
           118,
           43,
           72
          ],
          "sizemode": "area",
          "sizeref": 0.61,
          "symbol": "circle"
         },
         "mode": "markers",
         "name": "Forward",
         "orientation": "v",
         "showlegend": true,
         "type": "scatter",
         "x": [
          10,
          8.5,
          7.5,
          6.5,
          5.5,
          6,
          5.5,
          5.5,
          7,
          5.5,
          6.5,
          5.5,
          9,
          6.5,
          6.5,
          6,
          8,
          7.5,
          10.5,
          7.5,
          6.5,
          8,
          9,
          8.5,
          8.5,
          8,
          7.5,
          5.5,
          6.5,
          6,
          8,
          7,
          12.5,
          7.5,
          7.5,
          6
         ],
         "xaxis": "x",
         "y": [
          5.06,
          6.06,
          4.54,
          3.77,
          4.37,
          5.2,
          3.89,
          3.53,
          4.53,
          4.11,
          5.72,
          5.15,
          4.43,
          6.02,
          5.28,
          3.02,
          5.17,
          3.87,
          5.93,
          6.82,
          6.26,
          5.72,
          4.47,
          5.03,
          6.53,
          4.57,
          5.8,
          5.57,
          4.92,
          3.37,
          5.43,
          4.63,
          7.06,
          5.39,
          4.7,
          4.79
         ],
         "yaxis": "y"
        },
        {
         "hovertemplate": "<b>OLS trendline</b><br>points_per_90 = 0.291964 * cost + 2.88271<br>R<sup>2</sup>=0.228656<br><br>position=Forward<br>cost=%{x}<br>points_per_90=%{y} <b>(trend)</b><extra></extra>",
         "legendgroup": "Forward",
         "marker": {
          "color": "#00cc96",
          "symbol": "circle"
         },
         "mode": "lines",
         "name": "Forward",
         "showlegend": false,
         "type": "scatter",
         "x": [
          5.5,
          5.5,
          5.5,
          5.5,
          5.5,
          5.5,
          6,
          6,
          6,
          6,
          6.5,
          6.5,
          6.5,
          6.5,
          6.5,
          6.5,
          7,
          7,
          7.5,
          7.5,
          7.5,
          7.5,
          7.5,
          7.5,
          8,
          8,
          8,
          8,
          8.5,
          8.5,
          8.5,
          9,
          9,
          10,
          10.5,
          12.5
         ],
         "xaxis": "x",
         "y": [
          4.488509450514394,
          4.488509450514394,
          4.488509450514394,
          4.488509450514394,
          4.488509450514394,
          4.488509450514394,
          4.634491586250896,
          4.634491586250896,
          4.634491586250896,
          4.634491586250896,
          4.7804737219873985,
          4.7804737219873985,
          4.7804737219873985,
          4.7804737219873985,
          4.7804737219873985,
          4.7804737219873985,
          4.9264558577239015,
          4.9264558577239015,
          5.072437993460403,
          5.072437993460403,
          5.072437993460403,
          5.072437993460403,
          5.072437993460403,
          5.072437993460403,
          5.218420129196906,
          5.218420129196906,
          5.218420129196906,
          5.218420129196906,
          5.364402264933407,
          5.364402264933407,
          5.364402264933407,
          5.51038440066991,
          5.51038440066991,
          5.802348672142914,
          5.948330807879416,
          6.5322593508254245
         ],
         "yaxis": "y"
        },
        {
         "customdata": [
          [
           "Cédric Soares"
          ],
          [
           "Pablo Marí"
          ],
          [
           "Héctor Bellerín"
          ],
          [
           "Calum Chambers"
          ],
          [
           "Rob Holding"
          ],
          [
           "Kieran Tierney"
          ],
          [
           "Gabriel Magalhães"
          ],
          [
           "Kortney Hause"
          ],
          [
           "Tyrone Mings"
          ],
          [
           "Matt Targett"
          ],
          [
           "Matthew Cash"
          ],
          [
           "Ezri Konsa Ngoyo"
          ],
          [
           "Dan Burn"
          ],
          [
           "Lewis Dunk"
          ],
          [
           "Adam Webster"
          ],
          [
           "Joël Veltman"
          ],
          [
           "Ben White"
          ],
          [
           "Tariq Lamptey"
          ],
          [
           "James Tarkowski"
          ],
          [
           "Erik Pieters"
          ],
          [
           "Kevin Long"
          ],
          [
           "Ben Mee"
          ],
          [
           "Matthew Lowton"
          ],
          [
           "Charlie Taylor"
          ],
          [
           "César Azpilicueta"
          ],
          [
           "Thiago Thiago"
          ],
          [
           "Marcos Alonso"
          ],
          [
           "Antonio Rüdiger"
          ],
          [
           "Kurt Zouma"
          ],
          [
           "Andreas Christensen"
          ],
          [
           "Benjamin Chilwell"
          ],
          [
           "Ethan Ampadu"
          ],
          [
           "Reece James"
          ],
          [
           "James Tomkins"
          ],
          [
           "Cheikhou Kouyaté"
          ],
          [
           "Tyrick Mitchell"
          ],
          [
           "Seamus Coleman"
          ],
          [
           "Lucas Digne"
          ],
          [
           "Michael Keane"
          ],
          [
           "Yerry Mina"
          ],
          [
           "Mason Holgate"
          ],
          [
           "Ben Godfrey"
          ],
          [
           "Jonny Evans"
          ],
          [
           "Ricardo Domingos Barbosa Pereira"
          ],
          [
           "Daniel Amartey"
          ],
          [
           "Timothy Castagne"
          ],
          [
           "Çaglar Söyüncü"
          ],
          [
           "James Justin"
          ],
          [
           "Luke Thomas"
          ],
          [
           "Wesley Fofana"
          ],
          [
           "Liam Cooper"
          ],
          [
           "Luke Ayling"
          ],
          [
           "Diego Llorente"
          ],
          [
           "Robin Koch"
          ],
          [
           "Pascal Struijk"
          ],
          [
           "Joel Matip"
          ],
          [
           "Andrew Robertson"
          ],
          [
           "Trent Alexander-Arnold"
          ],
          [
           "Joseph Gomez"
          ],
          [
           "Nathaniel Phillips"
          ],
          [
           "Rhys Williams"
          ],
          [
           "Kyle Walker"
          ],
          [
           "John Stones"
          ],
          [
           "Benjamin Mendy"
          ],
          [
           "João Pedro Cavaco Cancelo"
          ],
          [
           "Nathan Aké"
          ],
          [
           "Aymeric Laporte"
          ],
          [
           "Rúben Santos Gato Alves Dias"
          ],
          [
           "Oleksandr Zinchenko"
          ],
          [
           "Harry Maguire"
          ],
          [
           "Luke Shaw"
          ],
          [
           "Alex Nicolao Telles"
          ],
          [
           "Victor Lindelöf"
          ],
          [
           "Eric Bailly"
          ],
          [
           "Aaron Wan-Bissaka"
          ],
          [
           "Matt Ritchie"
          ],
          [
           "Ciaran Clark"
          ],
          [
           "Jamaal Lascelles"
          ],
          [
           "Paul Dummett"
          ],
          [
           "Javier Manquillo"
          ],
          [
           "Emil Krafth"
          ],
          [
           "Fabian Schär"
          ],
          [
           "Jamal Lewis"
          ],
          [
           "Federico Fernández"
          ],
          [
           "Jack Stephens"
          ],
          [
           "Jannik Vestergaard"
          ],
          [
           "Kyle Walker-Peters"
          ],
          [
           "Jan Bednarek"
          ],
          [
           "Mohammed Salisu"
          ],
          [
           "Toby Alderweireld"
          ],
          [
           "Serge Aurier"
          ],
          [
           "Matt Doherty"
          ],
          [
           "Eric Dier"
          ],
          [
           "Ben Davies"
          ],
          [
           "Davinson Sánchez"
          ],
          [
           "Sergio Reguilón"
          ],
          [
           "Joe Rodon"
          ],
          [
           "Angelo Ogbonna"
          ],
          [
           "Aaron Cresswell"
          ],
          [
           "Craig Dawson"
          ],
          [
           "Ryan Fredericks"
          ],
          [
           "Arthur Masuaku"
          ],
          [
           "Vladimir Coufal"
          ],
          [
           "Issa Diop"
          ],
          [
           "Ben Johnson"
          ],
          [
           "Willy Boly"
          ],
          [
           "Conor Coady"
          ],
          [
           "Romain Saïss"
          ],
          [
           "Fernando Marçal"
          ],
          [
           "Nélson Cabral Semedo"
          ],
          [
           "Max Kilman"
          ],
          [
           "Ki-Jana Hoever"
          ]
         ],
         "hovertemplate": "position=Defender<br>cost=%{x}<br>points_per_90=%{y}<br>total_points=%{marker.size}<br>name=%{customdata[0]}<extra></extra>",
         "legendgroup": "Defender",
         "marker": {
          "color": "#ab63fa",
          "size": [
           28,
           34,
           94,
           36,
           105,
           96,
           78,
           32,
           128,
           138,
           89,
           119,
           64,
           130,
           85,
           96,
           104,
           35,
           109,
           50,
           14,
           102,
           103,
           83,
           113,
           92,
           57,
           93,
           108,
           61,
           139,
           44,
           112,
           18,
           82,
           58,
           81,
           120,
           127,
           79,
           80,
           100,
           109,
           27,
           19,
           94,
           59,
           101,
           26,
           71,
           59,
           100,
           50,
           38,
           71,
           42,
           161,
           160,
           10,
           68,
           28,
           91,
           128,
           63,
           138,
           29,
           58,
           142,
           69,
           124,
           124,
           25,
           102,
           31,
           144,
           52,
           46,
           44,
           40,
           28,
           45,
           30,
           44,
           53,
           41,
           86,
           93,
           94,
           14,
           88,
           80,
           47,
           77,
           52,
           43,
           89,
           27,
           100,
           153,
           75,
           28,
           42,
           128,
           42,
           25,
           68,
           106,
           99,
           19,
           109,
           58,
           13
          ],
          "sizemode": "area",
          "sizeref": 0.61,
          "symbol": "circle"
         },
         "mode": "markers",
         "name": "Defender",
         "orientation": "v",
         "showlegend": true,
         "type": "scatter",
         "x": [
          4.5,
          4.5,
          5,
          4.5,
          4.5,
          5,
          5,
          4.5,
          5,
          5,
          5,
          5,
          4.5,
          5,
          4.5,
          4.5,
          4.5,
          4.5,
          5,
          4.5,
          4,
          5,
          4.5,
          4.5,
          6,
          5.5,
          5.5,
          5.5,
          5.5,
          5,
          6,
          4.5,
          5.5,
          4.5,
          4.5,
          4.5,
          5,
          5.5,
          5,
          5,
          4.5,
          5,
          5.5,
          5.5,
          4,
          5.5,
          5,
          5,
          4.5,
          4.5,
          4.5,
          4.5,
          4.5,
          4.5,
          4.5,
          5,
          7,
          7.5,
          5,
          4.5,
          4.5,
          5.5,
          5.5,
          5.5,
          6,
          5,
          5.5,
          6,
          5.5,
          5.5,
          5.5,
          5,
          5,
          5,
          5.5,
          5,
          4.5,
          4.5,
          4.5,
          4,
          4.5,
          4.5,
          4.5,
          4.5,
          4.5,
          5,
          5,
          4.5,
          4.5,
          5,
          5,
          5,
          4.5,
          4.5,
          4.5,
          5,
          4.5,
          5,
          5.5,
          5,
          4.5,
          4.5,
          5,
          4.5,
          4,
          5,
          4.5,
          5,
          4.5,
          5,
          4.5,
          4
         ],
         "xaxis": "x",
         "y": [
          3.39,
          3.4,
          4.05,
          4.31,
          3.7,
          3.76,
          3.52,
          4.57,
          3.61,
          3.65,
          3.38,
          3.35,
          2.8,
          3.99,
          2.95,
          3.79,
          2.93,
          3.55,
          3.03,
          3.57,
          1.98,
          3.41,
          3.03,
          3.08,
          4.65,
          4.28,
          5.35,
          4.89,
          4.8,
          4,
          5.47,
          1.9,
          4.26,
          2.94,
          2.36,
          3.05,
          4.54,
          4.03,
          3.82,
          3.67,
          3.15,
          3.35,
          3.97,
          2.55,
          2.38,
          3.61,
          2.92,
          4.39,
          2.42,
          2.83,
          2.43,
          2.65,
          3.74,
          3.03,
          3.08,
          5.48,
          4.28,
          4.75,
          1.53,
          4.21,
          3.82,
          4.21,
          5.96,
          5.96,
          5.4,
          3.27,
          3.89,
          4.5,
          4.22,
          3.66,
          4.21,
          3.27,
          3.55,
          3.05,
          4.24,
          3.47,
          2.19,
          2.44,
          2.87,
          3.07,
          3.15,
          2.15,
          2.16,
          2.29,
          2.4,
          3.01,
          3.16,
          2.73,
          1.5,
          3.54,
          4.49,
          3.42,
          2.75,
          3.49,
          2.6,
          3.57,
          3.32,
          3.61,
          4.34,
          3.51,
          4.47,
          3.76,
          3.77,
          2.74,
          4.36,
          3.26,
          2.89,
          3.7,
          2.77,
          3.29,
          3.99,
          2.04
         ],
         "yaxis": "y"
        },
        {
         "hovertemplate": "<b>OLS trendline</b><br>points_per_90 = 0.952135 * cost + -1.15788<br>R<sup>2</sup>=0.356984<br><br>position=Defender<br>cost=%{x}<br>points_per_90=%{y} <b>(trend)</b><extra></extra>",
         "legendgroup": "Defender",
         "marker": {
          "color": "#ab63fa",
          "symbol": "circle"
         },
         "mode": "lines",
         "name": "Defender",
         "showlegend": false,
         "type": "scatter",
         "x": [
          4,
          4,
          4,
          4,
          4,
          4.5,
          4.5,
          4.5,
          4.5,
          4.5,
          4.5,
          4.5,
          4.5,
          4.5,
          4.5,
          4.5,
          4.5,
          4.5,
          4.5,
          4.5,
          4.5,
          4.5,
          4.5,
          4.5,
          4.5,
          4.5,
          4.5,
          4.5,
          4.5,
          4.5,
          4.5,
          4.5,
          4.5,
          4.5,
          4.5,
          4.5,
          4.5,
          4.5,
          4.5,
          4.5,
          4.5,
          4.5,
          4.5,
          4.5,
          4.5,
          4.5,
          4.5,
          4.5,
          4.5,
          4.5,
          4.5,
          4.5,
          5,
          5,
          5,
          5,
          5,
          5,
          5,
          5,
          5,
          5,
          5,
          5,
          5,
          5,
          5,
          5,
          5,
          5,
          5,
          5,
          5,
          5,
          5,
          5,
          5,
          5,
          5,
          5,
          5,
          5,
          5,
          5,
          5,
          5,
          5,
          5,
          5.5,
          5.5,
          5.5,
          5.5,
          5.5,
          5.5,
          5.5,
          5.5,
          5.5,
          5.5,
          5.5,
          5.5,
          5.5,
          5.5,
          5.5,
          5.5,
          5.5,
          5.5,
          6,
          6,
          6,
          6,
          7,
          7.5
         ],
         "xaxis": "x",
         "y": [
          2.6506640726329422,
          2.6506640726329422,
          2.6506640726329422,
          2.6506640726329422,
          2.6506640726329422,
          3.126731517509726,
          3.126731517509726,
          3.126731517509726,
          3.126731517509726,
          3.126731517509726,
          3.126731517509726,
          3.126731517509726,
          3.126731517509726,
          3.126731517509726,
          3.126731517509726,
          3.126731517509726,
          3.126731517509726,
          3.126731517509726,
          3.126731517509726,
          3.126731517509726,
          3.126731517509726,
          3.126731517509726,
          3.126731517509726,
          3.126731517509726,
          3.126731517509726,
          3.126731517509726,
          3.126731517509726,
          3.126731517509726,
          3.126731517509726,
          3.126731517509726,
          3.126731517509726,
          3.126731517509726,
          3.126731517509726,
          3.126731517509726,
          3.126731517509726,
          3.126731517509726,
          3.126731517509726,
          3.126731517509726,
          3.126731517509726,
          3.126731517509726,
          3.126731517509726,
          3.126731517509726,
          3.126731517509726,
          3.126731517509726,
          3.126731517509726,
          3.126731517509726,
          3.126731517509726,
          3.126731517509726,
          3.126731517509726,
          3.126731517509726,
          3.126731517509726,
          3.126731517509726,
          3.60279896238651,
          3.60279896238651,
          3.60279896238651,
          3.60279896238651,
          3.60279896238651,
          3.60279896238651,
          3.60279896238651,
          3.60279896238651,
          3.60279896238651,
          3.60279896238651,
          3.60279896238651,
          3.60279896238651,
          3.60279896238651,
          3.60279896238651,
          3.60279896238651,
          3.60279896238651,
          3.60279896238651,
          3.60279896238651,
          3.60279896238651,
          3.60279896238651,
          3.60279896238651,
          3.60279896238651,
          3.60279896238651,
          3.60279896238651,
          3.60279896238651,
          3.60279896238651,
          3.60279896238651,
          3.60279896238651,
          3.60279896238651,
          3.60279896238651,
          3.60279896238651,
          3.60279896238651,
          3.60279896238651,
          3.60279896238651,
          3.60279896238651,
          3.60279896238651,
          4.078866407263294,
          4.078866407263294,
          4.078866407263294,
          4.078866407263294,
          4.078866407263294,
          4.078866407263294,
          4.078866407263294,
          4.078866407263294,
          4.078866407263294,
          4.078866407263294,
          4.078866407263294,
          4.078866407263294,
          4.078866407263294,
          4.078866407263294,
          4.078866407263294,
          4.078866407263294,
          4.078866407263294,
          4.078866407263294,
          4.554933852140078,
          4.554933852140078,
          4.554933852140078,
          4.554933852140078,
          5.5070687418936455,
          5.983136186770429
         ],
         "yaxis": "y"
        }
       ],
       "layout": {
        "legend": {
         "itemsizing": "constant",
         "title": {
          "text": "position"
         },
         "tracegroupgap": 0
        },
        "margin": {
         "t": 60
        },
        "template": {
         "data": {
          "bar": [
           {
            "error_x": {
             "color": "#2a3f5f"
            },
            "error_y": {
             "color": "#2a3f5f"
            },
            "marker": {
             "line": {
              "color": "#E5ECF6",
              "width": 0.5
             },
             "pattern": {
              "fillmode": "overlay",
              "size": 10,
              "solidity": 0.2
             }
            },
            "type": "bar"
           }
          ],
          "barpolar": [
           {
            "marker": {
             "line": {
              "color": "#E5ECF6",
              "width": 0.5
             },
             "pattern": {
              "fillmode": "overlay",
              "size": 10,
              "solidity": 0.2
             }
            },
            "type": "barpolar"
           }
          ],
          "carpet": [
           {
            "aaxis": {
             "endlinecolor": "#2a3f5f",
             "gridcolor": "white",
             "linecolor": "white",
             "minorgridcolor": "white",
             "startlinecolor": "#2a3f5f"
            },
            "baxis": {
             "endlinecolor": "#2a3f5f",
             "gridcolor": "white",
             "linecolor": "white",
             "minorgridcolor": "white",
             "startlinecolor": "#2a3f5f"
            },
            "type": "carpet"
           }
          ],
          "choropleth": [
           {
            "colorbar": {
             "outlinewidth": 0,
             "ticks": ""
            },
            "type": "choropleth"
           }
          ],
          "contour": [
           {
            "colorbar": {
             "outlinewidth": 0,
             "ticks": ""
            },
            "colorscale": [
             [
              0,
              "#0d0887"
             ],
             [
              0.1111111111111111,
              "#46039f"
             ],
             [
              0.2222222222222222,
              "#7201a8"
             ],
             [
              0.3333333333333333,
              "#9c179e"
             ],
             [
              0.4444444444444444,
              "#bd3786"
             ],
             [
              0.5555555555555556,
              "#d8576b"
             ],
             [
              0.6666666666666666,
              "#ed7953"
             ],
             [
              0.7777777777777778,
              "#fb9f3a"
             ],
             [
              0.8888888888888888,
              "#fdca26"
             ],
             [
              1,
              "#f0f921"
             ]
            ],
            "type": "contour"
           }
          ],
          "contourcarpet": [
           {
            "colorbar": {
             "outlinewidth": 0,
             "ticks": ""
            },
            "type": "contourcarpet"
           }
          ],
          "heatmap": [
           {
            "colorbar": {
             "outlinewidth": 0,
             "ticks": ""
            },
            "colorscale": [
             [
              0,
              "#0d0887"
             ],
             [
              0.1111111111111111,
              "#46039f"
             ],
             [
              0.2222222222222222,
              "#7201a8"
             ],
             [
              0.3333333333333333,
              "#9c179e"
             ],
             [
              0.4444444444444444,
              "#bd3786"
             ],
             [
              0.5555555555555556,
              "#d8576b"
             ],
             [
              0.6666666666666666,
              "#ed7953"
             ],
             [
              0.7777777777777778,
              "#fb9f3a"
             ],
             [
              0.8888888888888888,
              "#fdca26"
             ],
             [
              1,
              "#f0f921"
             ]
            ],
            "type": "heatmap"
           }
          ],
          "heatmapgl": [
           {
            "colorbar": {
             "outlinewidth": 0,
             "ticks": ""
            },
            "colorscale": [
             [
              0,
              "#0d0887"
             ],
             [
              0.1111111111111111,
              "#46039f"
             ],
             [
              0.2222222222222222,
              "#7201a8"
             ],
             [
              0.3333333333333333,
              "#9c179e"
             ],
             [
              0.4444444444444444,
              "#bd3786"
             ],
             [
              0.5555555555555556,
              "#d8576b"
             ],
             [
              0.6666666666666666,
              "#ed7953"
             ],
             [
              0.7777777777777778,
              "#fb9f3a"
             ],
             [
              0.8888888888888888,
              "#fdca26"
             ],
             [
              1,
              "#f0f921"
             ]
            ],
            "type": "heatmapgl"
           }
          ],
          "histogram": [
           {
            "marker": {
             "pattern": {
              "fillmode": "overlay",
              "size": 10,
              "solidity": 0.2
             }
            },
            "type": "histogram"
           }
          ],
          "histogram2d": [
           {
            "colorbar": {
             "outlinewidth": 0,
             "ticks": ""
            },
            "colorscale": [
             [
              0,
              "#0d0887"
             ],
             [
              0.1111111111111111,
              "#46039f"
             ],
             [
              0.2222222222222222,
              "#7201a8"
             ],
             [
              0.3333333333333333,
              "#9c179e"
             ],
             [
              0.4444444444444444,
              "#bd3786"
             ],
             [
              0.5555555555555556,
              "#d8576b"
             ],
             [
              0.6666666666666666,
              "#ed7953"
             ],
             [
              0.7777777777777778,
              "#fb9f3a"
             ],
             [
              0.8888888888888888,
              "#fdca26"
             ],
             [
              1,
              "#f0f921"
             ]
            ],
            "type": "histogram2d"
           }
          ],
          "histogram2dcontour": [
           {
            "colorbar": {
             "outlinewidth": 0,
             "ticks": ""
            },
            "colorscale": [
             [
              0,
              "#0d0887"
             ],
             [
              0.1111111111111111,
              "#46039f"
             ],
             [
              0.2222222222222222,
              "#7201a8"
             ],
             [
              0.3333333333333333,
              "#9c179e"
             ],
             [
              0.4444444444444444,
              "#bd3786"
             ],
             [
              0.5555555555555556,
              "#d8576b"
             ],
             [
              0.6666666666666666,
              "#ed7953"
             ],
             [
              0.7777777777777778,
              "#fb9f3a"
             ],
             [
              0.8888888888888888,
              "#fdca26"
             ],
             [
              1,
              "#f0f921"
             ]
            ],
            "type": "histogram2dcontour"
           }
          ],
          "mesh3d": [
           {
            "colorbar": {
             "outlinewidth": 0,
             "ticks": ""
            },
            "type": "mesh3d"
           }
          ],
          "parcoords": [
           {
            "line": {
             "colorbar": {
              "outlinewidth": 0,
              "ticks": ""
             }
            },
            "type": "parcoords"
           }
          ],
          "pie": [
           {
            "automargin": true,
            "type": "pie"
           }
          ],
          "scatter": [
           {
            "marker": {
             "colorbar": {
              "outlinewidth": 0,
              "ticks": ""
             }
            },
            "type": "scatter"
           }
          ],
          "scatter3d": [
           {
            "line": {
             "colorbar": {
              "outlinewidth": 0,
              "ticks": ""
             }
            },
            "marker": {
             "colorbar": {
              "outlinewidth": 0,
              "ticks": ""
             }
            },
            "type": "scatter3d"
           }
          ],
          "scattercarpet": [
           {
            "marker": {
             "colorbar": {
              "outlinewidth": 0,
              "ticks": ""
             }
            },
            "type": "scattercarpet"
           }
          ],
          "scattergeo": [
           {
            "marker": {
             "colorbar": {
              "outlinewidth": 0,
              "ticks": ""
             }
            },
            "type": "scattergeo"
           }
          ],
          "scattergl": [
           {
            "marker": {
             "colorbar": {
              "outlinewidth": 0,
              "ticks": ""
             }
            },
            "type": "scattergl"
           }
          ],
          "scattermapbox": [
           {
            "marker": {
             "colorbar": {
              "outlinewidth": 0,
              "ticks": ""
             }
            },
            "type": "scattermapbox"
           }
          ],
          "scatterpolar": [
           {
            "marker": {
             "colorbar": {
              "outlinewidth": 0,
              "ticks": ""
             }
            },
            "type": "scatterpolar"
           }
          ],
          "scatterpolargl": [
           {
            "marker": {
             "colorbar": {
              "outlinewidth": 0,
              "ticks": ""
             }
            },
            "type": "scatterpolargl"
           }
          ],
          "scatterternary": [
           {
            "marker": {
             "colorbar": {
              "outlinewidth": 0,
              "ticks": ""
             }
            },
            "type": "scatterternary"
           }
          ],
          "surface": [
           {
            "colorbar": {
             "outlinewidth": 0,
             "ticks": ""
            },
            "colorscale": [
             [
              0,
              "#0d0887"
             ],
             [
              0.1111111111111111,
              "#46039f"
             ],
             [
              0.2222222222222222,
              "#7201a8"
             ],
             [
              0.3333333333333333,
              "#9c179e"
             ],
             [
              0.4444444444444444,
              "#bd3786"
             ],
             [
              0.5555555555555556,
              "#d8576b"
             ],
             [
              0.6666666666666666,
              "#ed7953"
             ],
             [
              0.7777777777777778,
              "#fb9f3a"
             ],
             [
              0.8888888888888888,
              "#fdca26"
             ],
             [
              1,
              "#f0f921"
             ]
            ],
            "type": "surface"
           }
          ],
          "table": [
           {
            "cells": {
             "fill": {
              "color": "#EBF0F8"
             },
             "line": {
              "color": "white"
             }
            },
            "header": {
             "fill": {
              "color": "#C8D4E3"
             },
             "line": {
              "color": "white"
             }
            },
            "type": "table"
           }
          ]
         },
         "layout": {
          "annotationdefaults": {
           "arrowcolor": "#2a3f5f",
           "arrowhead": 0,
           "arrowwidth": 1
          },
          "autotypenumbers": "strict",
          "coloraxis": {
           "colorbar": {
            "outlinewidth": 0,
            "ticks": ""
           }
          },
          "colorscale": {
           "diverging": [
            [
             0,
             "#8e0152"
            ],
            [
             0.1,
             "#c51b7d"
            ],
            [
             0.2,
             "#de77ae"
            ],
            [
             0.3,
             "#f1b6da"
            ],
            [
             0.4,
             "#fde0ef"
            ],
            [
             0.5,
             "#f7f7f7"
            ],
            [
             0.6,
             "#e6f5d0"
            ],
            [
             0.7,
             "#b8e186"
            ],
            [
             0.8,
             "#7fbc41"
            ],
            [
             0.9,
             "#4d9221"
            ],
            [
             1,
             "#276419"
            ]
           ],
           "sequential": [
            [
             0,
             "#0d0887"
            ],
            [
             0.1111111111111111,
             "#46039f"
            ],
            [
             0.2222222222222222,
             "#7201a8"
            ],
            [
             0.3333333333333333,
             "#9c179e"
            ],
            [
             0.4444444444444444,
             "#bd3786"
            ],
            [
             0.5555555555555556,
             "#d8576b"
            ],
            [
             0.6666666666666666,
             "#ed7953"
            ],
            [
             0.7777777777777778,
             "#fb9f3a"
            ],
            [
             0.8888888888888888,
             "#fdca26"
            ],
            [
             1,
             "#f0f921"
            ]
           ],
           "sequentialminus": [
            [
             0,
             "#0d0887"
            ],
            [
             0.1111111111111111,
             "#46039f"
            ],
            [
             0.2222222222222222,
             "#7201a8"
            ],
            [
             0.3333333333333333,
             "#9c179e"
            ],
            [
             0.4444444444444444,
             "#bd3786"
            ],
            [
             0.5555555555555556,
             "#d8576b"
            ],
            [
             0.6666666666666666,
             "#ed7953"
            ],
            [
             0.7777777777777778,
             "#fb9f3a"
            ],
            [
             0.8888888888888888,
             "#fdca26"
            ],
            [
             1,
             "#f0f921"
            ]
           ]
          },
          "colorway": [
           "#636efa",
           "#EF553B",
           "#00cc96",
           "#ab63fa",
           "#FFA15A",
           "#19d3f3",
           "#FF6692",
           "#B6E880",
           "#FF97FF",
           "#FECB52"
          ],
          "font": {
           "color": "#2a3f5f"
          },
          "geo": {
           "bgcolor": "white",
           "lakecolor": "white",
           "landcolor": "#E5ECF6",
           "showlakes": true,
           "showland": true,
           "subunitcolor": "white"
          },
          "hoverlabel": {
           "align": "left"
          },
          "hovermode": "closest",
          "mapbox": {
           "style": "light"
          },
          "paper_bgcolor": "white",
          "plot_bgcolor": "#E5ECF6",
          "polar": {
           "angularaxis": {
            "gridcolor": "white",
            "linecolor": "white",
            "ticks": ""
           },
           "bgcolor": "#E5ECF6",
           "radialaxis": {
            "gridcolor": "white",
            "linecolor": "white",
            "ticks": ""
           }
          },
          "scene": {
           "xaxis": {
            "backgroundcolor": "#E5ECF6",
            "gridcolor": "white",
            "gridwidth": 2,
            "linecolor": "white",
            "showbackground": true,
            "ticks": "",
            "zerolinecolor": "white"
           },
           "yaxis": {
            "backgroundcolor": "#E5ECF6",
            "gridcolor": "white",
            "gridwidth": 2,
            "linecolor": "white",
            "showbackground": true,
            "ticks": "",
            "zerolinecolor": "white"
           },
           "zaxis": {
            "backgroundcolor": "#E5ECF6",
            "gridcolor": "white",
            "gridwidth": 2,
            "linecolor": "white",
            "showbackground": true,
            "ticks": "",
            "zerolinecolor": "white"
           }
          },
          "shapedefaults": {
           "line": {
            "color": "#2a3f5f"
           }
          },
          "ternary": {
           "aaxis": {
            "gridcolor": "white",
            "linecolor": "white",
            "ticks": ""
           },
           "baxis": {
            "gridcolor": "white",
            "linecolor": "white",
            "ticks": ""
           },
           "bgcolor": "#E5ECF6",
           "caxis": {
            "gridcolor": "white",
            "linecolor": "white",
            "ticks": ""
           }
          },
          "title": {
           "x": 0.05
          },
          "xaxis": {
           "automargin": true,
           "gridcolor": "white",
           "linecolor": "white",
           "ticks": "",
           "title": {
            "standoff": 15
           },
           "zerolinecolor": "white",
           "zerolinewidth": 2
          },
          "yaxis": {
           "automargin": true,
           "gridcolor": "white",
           "linecolor": "white",
           "ticks": "",
           "title": {
            "standoff": 15
           },
           "zerolinecolor": "white",
           "zerolinewidth": 2
          }
         }
        },
        "xaxis": {
         "anchor": "y",
         "domain": [
          0,
          1
         ],
         "title": {
          "text": "cost"
         }
        },
        "yaxis": {
         "anchor": "x",
         "domain": [
          0,
          1
         ],
         "title": {
          "text": "points_per_90"
         }
        }
       }
      },
      "text/html": [
       "<div>                            <div id=\"64617099-f6e1-4a33-aeb6-ff2ed14b0edf\" class=\"plotly-graph-div\" style=\"height:525px; width:100%;\"></div>            <script type=\"text/javascript\">                require([\"plotly\"], function(Plotly) {                    window.PLOTLYENV=window.PLOTLYENV || {};                                    if (document.getElementById(\"64617099-f6e1-4a33-aeb6-ff2ed14b0edf\")) {                    Plotly.newPlot(                        \"64617099-f6e1-4a33-aeb6-ff2ed14b0edf\",                        [{\"customdata\":[[\"Bernd Leno\"],[\"Emiliano Mart\\u00ednez\"],[\"Mathew Ryan\"],[\"Robert S\\u00e1nchez\"],[\"Nick Pope\"],[\"Kepa Arrizabalaga\"],[\"Edouard Mendy\"],[\"Vicente Guaita\"],[\"Jordan Pickford\"],[\"Kasper Schmeichel\"],[\"Illan Meslier\"],[\"Alisson Ramses Becker\"],[\"Ederson Santana de Moraes\"],[\"David de Gea\"],[\"Dean Henderson\"],[\"Karl Darlow\"],[\"Martin Dubravka\"],[\"Fraser Forster\"],[\"Alex McCarthy\"],[\"Hugo Lloris\"],[\"Lukasz Fabianski\"],[\"Rui Pedro dos Santos Patr\\u00edcio\"]],\"hovertemplate\":\"position=Goalkeeper<br>cost=%{x}<br>points_per_90=%{y}<br>total_points=%{marker.size}<br>name=%{customdata[0]}<extra></extra>\",\"legendgroup\":\"Goalkeeper\",\"marker\":{\"color\":\"#636efa\",\"size\":[131,186,37,101,144,26,140,124,114,128,154,140,160,91,44,80,48,30,94,149,133,132],\"sizemode\":\"area\",\"sizeref\":0.61,\"symbol\":\"circle\"},\"mode\":\"markers\",\"name\":\"Goalkeeper\",\"orientation\":\"v\",\"showlegend\":true,\"type\":\"scatter\",\"x\":[5.0,5.5,4.5,4.5,5.5,5.0,6.0,4.5,5.0,5.0,5.0,6.0,6.0,5.0,5.0,4.5,4.5,4.5,4.5,5.5,5.0,5.0],\"xaxis\":\"x\",\"y\":[3.77,4.89,2.64,3.74,4.5,4.0,4.59,3.35,3.74,3.37,4.4,4.24,4.44,3.57,3.52,3.2,3.69,3.75,3.13,3.92,3.8,3.57],\"yaxis\":\"y\"},{\"hovertemplate\":\"<b>OLS trendline</b><br>points_per_90 = 0.80025 * cost + -0.227625<br>R<sup>2</sup>=0.575810<br><br>position=Goalkeeper<br>cost=%{x}<br>points_per_90=%{y} <b>(trend)</b><extra></extra>\",\"legendgroup\":\"Goalkeeper\",\"marker\":{\"color\":\"#636efa\",\"symbol\":\"circle\"},\"mode\":\"lines\",\"name\":\"Goalkeeper\",\"showlegend\":false,\"type\":\"scatter\",\"x\":[4.5,4.5,4.5,4.5,4.5,4.5,4.5,5.0,5.0,5.0,5.0,5.0,5.0,5.0,5.0,5.0,5.5,5.5,5.5,6.0,6.0,6.0],\"xaxis\":\"x\",\"y\":[3.373499999999999,3.373499999999999,3.373499999999999,3.373499999999999,3.373499999999999,3.373499999999999,3.373499999999999,3.773624999999999,3.773624999999999,3.773624999999999,3.773624999999999,3.773624999999999,3.773624999999999,3.773624999999999,3.773624999999999,3.773624999999999,4.173749999999999,4.173749999999999,4.173749999999999,4.573874999999999,4.573874999999999,4.573874999999999],\"yaxis\":\"y\"},{\"customdata\":[[\"Willian Borges Da Silva\"],[\"Granit Xhaka\"],[\"Mohamed Naser El Sayed Elneny\"],[\"Ainsley Maitland-Niles\"],[\"Thomas Partey\"],[\"Nicolas P\\u00e9p\\u00e9\"],[\"Joseph Willock\"],[\"Emile Smith Rowe\"],[\"Bukayo Saka\"],[\"Gabriel Teodoro Martinelli Silva\"],[\"Bertrand Traor\\u00e9\"],[\"Jack Grealish\"],[\"John McGinn\"],[\"Mahmoud Ahmed Ibrahim Hassan\"],[\"Marvelous Nakamba\"],[\"Anwar El Ghazi\"],[\"Douglas Luiz Soares de Paulo\"],[\"Jacob Ramsey\"],[\"Adam Lallana\"],[\"Pascal Gro\\u00df\"],[\"Solomon March\"],[\"Leandro Trossard\"],[\"Alireza Jahanbakhsh\"],[\"Yves Bissouma\"],[\"Steven Alzate\"],[\"Alexis Mac Allister\"],[\"Jakub Moder\"],[\"Jack Cork\"],[\"Ashley Westwood\"],[\"Johann Berg Gudmundsson\"],[\"Josh Brownhill\"],[\"Dwight McNeil\"],[\"Jorge Luiz Frello Filho\"],[\"Ross Barkley\"],[\"Mateo Kovacic\"],[\"N'Golo Kant\\u00e9\"],[\"Hakim Ziyech\"],[\"Ruben Loftus-Cheek\"],[\"Christian Pulisic\"],[\"Mason Mount\"],[\"Callum Hudson-Odoi\"],[\"Kai Havertz\"],[\"Conor Gallagher\"],[\"James McArthur\"],[\"Luka Milivojevic\"],[\"Wilfried Zaha\"],[\"Jeffrey Schlupp\"],[\"Jairo Riedewald\"],[\"Eberechi Eze\"],[\"Gylfi Sigurdsson\"],[\"James Rodr\\u00edguez\"],[\"Allan Marques Loureiro\"],[\"Andr\\u00e9 Filipe Tavares Gomes\"],[\"Abdoulaye Doucour\\u00e9\"],[\"Alex Iwobi\"],[\"Tom Davies\"],[\"Marc Albrighton\"],[\"Nampalys Mendy\"],[\"Dennis Praet\"],[\"Youri Tielemans\"],[\"Ayoze P\\u00e9rez\"],[\"James Maddison\"],[\"Harvey Barnes\"],[\"Wilfred Ndidi\"],[\"Mateusz Klich\"],[\"Stuart Dallas\"],[\"Kalvin Phillips\"],[\"H\\u00e9lder Wander Sousa de Azevedo e Costa\"],[\"Tyler Roberts\"],[\"Raphael Dias Belloli\"],[\"Jack Harrison\"],[\"James Milner\"],[\"Jordan Henderson\"],[\"Thiago Alc\\u00e1ntara do Nascimento\"],[\"Xherdan Shaqiri\"],[\"Sadio Man\\u00e9\"],[\"Fabio Henrique Tavares\"],[\"Mohamed Salah\"],[\"Takumi Minamino\"],[\"Naby Keita\"],[\"Diogo Jota\"],[\"Curtis Jones\"],[\"Ilkay G\\u00fcndogan\"],[\"Kevin De Bruyne\"],[\"Riyad Mahrez\"],[\"Raheem Sterling\"],[\"Bernardo Mota Veiga de Carvalho e Silva\"],[\"Phil Foden\"],[\"Rodrigo Hernandez\"],[\"Ferran Torres\"],[\"Fernando Luiz Rosa\"],[\"Nemanja Matic\"],[\"Paul Pogba\"],[\"Frederico Rodrigues de Paula Santos\"],[\"Jesse Lingard\"],[\"Bruno Miguel Borges Fernandes\"],[\"Marcus Rashford\"],[\"Donny van de Beek\"],[\"Scott McTominay\"],[\"Daniel James\"],[\"Mason Greenwood\"],[\"Juan Mata\"],[\"Jonjo Shelvey\"],[\"Jeff Hendrick\"],[\"Ryan Fraser\"],[\"Jacob Murphy\"],[\"Isaac Hayden\"],[\"Miguel Almir\\u00f3n\"],[\"Sean Longstaff\"],[\"Theo Walcott\"],[\"Oriol Romeu Vidal\"],[\"Nathan Redmond\"],[\"Stuart Armstrong\"],[\"James Ward-Prowse\"],[\"Nathan Tella\"],[\"Ibrahima Diallo\"],[\"Moussa Djenepo\"],[\"Moussa Sissoko\"],[\"Erik Lamela\"],[\"Heung-Min Son\"],[\"Lucas Rodrigues Moura da Silva\"],[\"Bamidele Alli\"],[\"Pierre-Emile H\\u00f8jbjerg\"],[\"Harry Winks\"],[\"Steven Bergwijn\"],[\"Giovani Lo Celso\"],[\"Tanguy Ndombele\"],[\"Mark Noble\"],[\"Manuel Lanzini\"],[\"Sa\\u00efd Benrahma\"],[\"Jarrod Bowen\"],[\"Declan Rice\"],[\"Tomas Soucek\"],[\"Pablo Fornals\"],[\"Jo\\u00e3o Filipe Iria Santos Moutinho\"],[\"Leander Dendoncker\"],[\"Adama Traor\\u00e9\"],[\"R\\u00faben Diogo da Silva Neves\"],[\"Daniel Castelo Podence\"],[\"Pedro Lomba Neto\"]],\"hovertemplate\":\"position=Midfielder<br>cost=%{x}<br>points_per_90=%{y}<br>total_points=%{marker.size}<br>name=%{customdata[0]}<extra></extra>\",\"legendgroup\":\"Midfielder\",\"marker\":{\"color\":\"#EF553B\",\"size\":[78,70,50,68,47,114,79,74,114,36,135,135,114,56,27,111,72,28,58,116,69,132,24,77,35,48,21,33,112,50,74,113,114,76,54,62,70,66,82,147,59,91,71,45,63,136,65,64,125,122,101,47,48,80,65,47,78,41,37,133,58,133,126,79,99,171,67,63,49,133,160,44,56,55,26,176,71,231,48,15,86,50,157,141,145,154,94,135,91,95,65,36,92,69,106,244,174,32,91,43,106,32,74,52,39,69,40,97,41,76,52,67,115,156,36,31,46,44,28,228,80,30,107,19,55,35,99,27,28,73,141,86,147,125,73,77,94,104,75,124],\"sizemode\":\"area\",\"sizeref\":0.61,\"symbol\":\"circle\"},\"mode\":\"markers\",\"name\":\"Midfielder\",\"orientation\":\"v\",\"showlegend\":true,\"type\":\"scatter\",\"x\":[6.5,5.0,4.5,5.5,5.0,7.5,6.0,5.5,6.5,5.5,6.0,8.0,6.0,5.5,4.5,6.0,4.5,4.5,5.5,6.0,5.5,6.5,5.5,4.5,5.0,5.5,4.5,4.5,5.5,5.5,4.5,6.0,6.0,5.5,5.0,5.0,7.5,5.5,8.0,7.5,5.5,8.5,5.5,4.5,5.5,7.0,5.5,5.0,6.0,7.0,7.0,4.5,5.0,5.5,6.0,5.0,5.5,4.5,5.0,6.5,6.0,7.0,7.0,5.0,5.5,5.5,5.0,5.5,5.0,6.5,6.0,5.0,5.0,5.5,6.0,12.0,5.5,12.5,5.5,5.0,7.5,5.0,7.5,12.0,9.0,11.0,7.0,8.0,5.5,7.0,5.0,4.5,7.5,5.0,7.0,12.0,9.5,6.0,5.5,6.0,7.5,5.0,5.5,5.0,5.5,5.0,4.5,5.5,4.5,6.0,4.5,6.0,6.0,6.5,5.0,4.5,5.5,4.5,6.0,10.0,6.5,6.5,5.0,4.5,6.0,6.0,6.0,4.5,6.0,6.0,6.5,5.0,6.0,6.0,5.0,5.0,6.0,5.5,5.5,6.5],\"xaxis\":\"x\",\"y\":[5.02,2.5,2.93,3.57,2.77,6.39,5.88,4.63,4.02,5.57,5.25,5.57,3.08,4.36,3.25,6.23,2.33,4.12,3.3,4.21,3.72,4.57,4.15,2.23,3.53,3.9,2.94,2.2,2.96,3.31,2.37,3.31,5.11,4.37,2.69,2.61,5.41,3.03,4.26,4.58,5.06,5.42,2.53,2.76,2.41,4.69,4.13,3.18,4.4,4.89,5.16,2.06,2.77,2.95,3.82,2.99,4.05,2.54,4.66,3.57,3.95,5.72,5.83,3.27,3.73,4.51,2.48,4.93,3.32,5.08,5.06,3.75,2.96,2.67,4.27,5.64,2.49,6.76,4.32,2.61,7.0,3.85,6.98,6.36,6.71,5.47,4.1,7.56,2.98,6.59,4.95,2.94,4.38,2.6,6.7,7.08,5.37,5.64,3.86,4.27,5.26,5.68,2.55,3.3,3.81,3.84,1.85,3.6,2.63,4.2,2.66,3.49,3.74,4.11,4.41,2.76,3.37,2.51,3.6,6.58,5.15,4.4,2.82,2.0,4.12,3.35,4.27,3.47,4.53,4.77,4.96,2.69,3.87,4.38,2.6,2.77,3.2,3.51,4.06,4.38],\"yaxis\":\"y\"},{\"hovertemplate\":\"<b>OLS trendline</b><br>points_per_90 = 0.596123 * cost + 0.475874<br>R<sup>2</sup>=0.519239<br><br>position=Midfielder<br>cost=%{x}<br>points_per_90=%{y} <b>(trend)</b><extra></extra>\",\"legendgroup\":\"Midfielder\",\"marker\":{\"color\":\"#EF553B\",\"symbol\":\"circle\"},\"mode\":\"lines\",\"name\":\"Midfielder\",\"showlegend\":false,\"type\":\"scatter\",\"x\":[4.5,4.5,4.5,4.5,4.5,4.5,4.5,4.5,4.5,4.5,4.5,4.5,4.5,4.5,4.5,4.5,4.5,4.5,4.5,5.0,5.0,5.0,5.0,5.0,5.0,5.0,5.0,5.0,5.0,5.0,5.0,5.0,5.0,5.0,5.0,5.0,5.0,5.0,5.0,5.0,5.0,5.0,5.0,5.0,5.0,5.5,5.5,5.5,5.5,5.5,5.5,5.5,5.5,5.5,5.5,5.5,5.5,5.5,5.5,5.5,5.5,5.5,5.5,5.5,5.5,5.5,5.5,5.5,5.5,5.5,5.5,5.5,5.5,5.5,5.5,5.5,5.5,6.0,6.0,6.0,6.0,6.0,6.0,6.0,6.0,6.0,6.0,6.0,6.0,6.0,6.0,6.0,6.0,6.0,6.0,6.0,6.0,6.0,6.0,6.0,6.0,6.0,6.0,6.5,6.5,6.5,6.5,6.5,6.5,6.5,6.5,6.5,6.5,7.0,7.0,7.0,7.0,7.0,7.0,7.0,7.0,7.5,7.5,7.5,7.5,7.5,7.5,7.5,8.0,8.0,8.0,8.5,9.0,9.5,10.0,11.0,12.0,12.0,12.0,12.5],\"xaxis\":\"x\",\"y\":[3.158428335232836,3.158428335232836,3.158428335232836,3.158428335232836,3.158428335232836,3.158428335232836,3.158428335232836,3.158428335232836,3.158428335232836,3.158428335232836,3.158428335232836,3.158428335232836,3.158428335232836,3.158428335232836,3.158428335232836,3.158428335232836,3.158428335232836,3.158428335232836,3.158428335232836,3.456489879127406,3.456489879127406,3.456489879127406,3.456489879127406,3.456489879127406,3.456489879127406,3.456489879127406,3.456489879127406,3.456489879127406,3.456489879127406,3.456489879127406,3.456489879127406,3.456489879127406,3.456489879127406,3.456489879127406,3.456489879127406,3.456489879127406,3.456489879127406,3.456489879127406,3.456489879127406,3.456489879127406,3.456489879127406,3.456489879127406,3.456489879127406,3.456489879127406,3.456489879127406,3.754551423021975,3.754551423021975,3.754551423021975,3.754551423021975,3.754551423021975,3.754551423021975,3.754551423021975,3.754551423021975,3.754551423021975,3.754551423021975,3.754551423021975,3.754551423021975,3.754551423021975,3.754551423021975,3.754551423021975,3.754551423021975,3.754551423021975,3.754551423021975,3.754551423021975,3.754551423021975,3.754551423021975,3.754551423021975,3.754551423021975,3.754551423021975,3.754551423021975,3.754551423021975,3.754551423021975,3.754551423021975,3.754551423021975,3.754551423021975,3.754551423021975,3.754551423021975,4.052612966916544,4.052612966916544,4.052612966916544,4.052612966916544,4.052612966916544,4.052612966916544,4.052612966916544,4.052612966916544,4.052612966916544,4.052612966916544,4.052612966916544,4.052612966916544,4.052612966916544,4.052612966916544,4.052612966916544,4.052612966916544,4.052612966916544,4.052612966916544,4.052612966916544,4.052612966916544,4.052612966916544,4.052612966916544,4.052612966916544,4.052612966916544,4.052612966916544,4.052612966916544,4.350674510811114,4.350674510811114,4.350674510811114,4.350674510811114,4.350674510811114,4.350674510811114,4.350674510811114,4.350674510811114,4.350674510811114,4.350674510811114,4.648736054705683,4.648736054705683,4.648736054705683,4.648736054705683,4.648736054705683,4.648736054705683,4.648736054705683,4.648736054705683,4.946797598600253,4.946797598600253,4.946797598600253,4.946797598600253,4.946797598600253,4.946797598600253,4.946797598600253,5.244859142494822,5.244859142494822,5.244859142494822,5.542920686389391,5.840982230283961,6.13904377417853,6.4371053180731,7.033228405862238,7.629351493651377,7.629351493651377,7.629351493651377,7.927413037545946],\"yaxis\":\"y\"},{\"customdata\":[[\"Pierre-Emerick Aubameyang\"],[\"Alexandre Lacazette\"],[\"Ollie Watkins\"],[\"Neal Maupay\"],[\"Aaron Connolly\"],[\"Danny Welbeck\"],[\"Jay Rodriguez\"],[\"Ashley Barnes\"],[\"Chris Wood\"],[\"Matej Vydra\"],[\"Olivier Giroud\"],[\"Michy Batshuayi\"],[\"Timo Werner\"],[\"Tammy Abraham\"],[\"Christian Benteke\"],[\"Jordan Ayew\"],[\"Dominic Calvert-Lewin\"],[\"Richarlison de Andrade\"],[\"Jamie Vardy\"],[\"Kelechi Iheanacho\"],[\"Rodrigo Moreno\"],[\"Patrick Bamford\"],[\"Roberto Firmino\"],[\"Gabriel Fernando de Jesus\"],[\"Edinson Cavani\"],[\"Anthony Martial\"],[\"Callum Wilson\"],[\"Dwight Gayle\"],[\"Allan Saint-Maximin\"],[\"Joelinton C\\u00e1ssio Apolin\\u00e1rio de Lira\"],[\"Danny Ings\"],[\"Che Adams\"],[\"Harry Kane\"],[\"Michail Antonio\"],[\"Ra\\u00fal Jim\\u00e9nez\"],[\"Fabio Silva\"]],\"hovertemplate\":\"position=Forward<br>cost=%{x}<br>points_per_90=%{y}<br>total_points=%{marker.size}<br>name=%{customdata[0]}<extra></extra>\",\"legendgroup\":\"Forward\",\"marker\":{\"color\":\"#00cc96\",\"size\":[131,129,168,105,38,89,54,52,138,62,47,41,128,69,106,70,165,123,187,110,89,194,141,115,99,75,134,31,85,74,131,137,242,118,43,72],\"sizemode\":\"area\",\"sizeref\":0.61,\"symbol\":\"circle\"},\"mode\":\"markers\",\"name\":\"Forward\",\"orientation\":\"v\",\"showlegend\":true,\"type\":\"scatter\",\"x\":[10.0,8.5,7.5,6.5,5.5,6.0,5.5,5.5,7.0,5.5,6.5,5.5,9.0,6.5,6.5,6.0,8.0,7.5,10.5,7.5,6.5,8.0,9.0,8.5,8.5,8.0,7.5,5.5,6.5,6.0,8.0,7.0,12.5,7.5,7.5,6.0],\"xaxis\":\"x\",\"y\":[5.06,6.06,4.54,3.77,4.37,5.2,3.89,3.53,4.53,4.11,5.72,5.15,4.43,6.02,5.28,3.02,5.17,3.87,5.93,6.82,6.26,5.72,4.47,5.03,6.53,4.57,5.8,5.57,4.92,3.37,5.43,4.63,7.06,5.39,4.7,4.79],\"yaxis\":\"y\"},{\"hovertemplate\":\"<b>OLS trendline</b><br>points_per_90 = 0.291964 * cost + 2.88271<br>R<sup>2</sup>=0.228656<br><br>position=Forward<br>cost=%{x}<br>points_per_90=%{y} <b>(trend)</b><extra></extra>\",\"legendgroup\":\"Forward\",\"marker\":{\"color\":\"#00cc96\",\"symbol\":\"circle\"},\"mode\":\"lines\",\"name\":\"Forward\",\"showlegend\":false,\"type\":\"scatter\",\"x\":[5.5,5.5,5.5,5.5,5.5,5.5,6.0,6.0,6.0,6.0,6.5,6.5,6.5,6.5,6.5,6.5,7.0,7.0,7.5,7.5,7.5,7.5,7.5,7.5,8.0,8.0,8.0,8.0,8.5,8.5,8.5,9.0,9.0,10.0,10.5,12.5],\"xaxis\":\"x\",\"y\":[4.488509450514394,4.488509450514394,4.488509450514394,4.488509450514394,4.488509450514394,4.488509450514394,4.634491586250896,4.634491586250896,4.634491586250896,4.634491586250896,4.7804737219873985,4.7804737219873985,4.7804737219873985,4.7804737219873985,4.7804737219873985,4.7804737219873985,4.9264558577239015,4.9264558577239015,5.072437993460403,5.072437993460403,5.072437993460403,5.072437993460403,5.072437993460403,5.072437993460403,5.218420129196906,5.218420129196906,5.218420129196906,5.218420129196906,5.364402264933407,5.364402264933407,5.364402264933407,5.51038440066991,5.51038440066991,5.802348672142914,5.948330807879416,6.5322593508254245],\"yaxis\":\"y\"},{\"customdata\":[[\"C\\u00e9dric Soares\"],[\"Pablo Mar\\u00ed\"],[\"H\\u00e9ctor Beller\\u00edn\"],[\"Calum Chambers\"],[\"Rob Holding\"],[\"Kieran Tierney\"],[\"Gabriel Magalh\\u00e3es\"],[\"Kortney Hause\"],[\"Tyrone Mings\"],[\"Matt Targett\"],[\"Matthew Cash\"],[\"Ezri Konsa Ngoyo\"],[\"Dan Burn\"],[\"Lewis Dunk\"],[\"Adam Webster\"],[\"Jo\\u00ebl Veltman\"],[\"Ben White\"],[\"Tariq Lamptey\"],[\"James Tarkowski\"],[\"Erik Pieters\"],[\"Kevin Long\"],[\"Ben Mee\"],[\"Matthew Lowton\"],[\"Charlie Taylor\"],[\"C\\u00e9sar Azpilicueta\"],[\"Thiago Thiago\"],[\"Marcos Alonso\"],[\"Antonio R\\u00fcdiger\"],[\"Kurt Zouma\"],[\"Andreas Christensen\"],[\"Benjamin Chilwell\"],[\"Ethan Ampadu\"],[\"Reece James\"],[\"James Tomkins\"],[\"Cheikhou Kouyat\\u00e9\"],[\"Tyrick Mitchell\"],[\"Seamus Coleman\"],[\"Lucas Digne\"],[\"Michael Keane\"],[\"Yerry Mina\"],[\"Mason Holgate\"],[\"Ben Godfrey\"],[\"Jonny Evans\"],[\"Ricardo Domingos Barbosa Pereira\"],[\"Daniel Amartey\"],[\"Timothy Castagne\"],[\"\\u00c7aglar S\\u00f6y\\u00fcnc\\u00fc\"],[\"James Justin\"],[\"Luke Thomas\"],[\"Wesley Fofana\"],[\"Liam Cooper\"],[\"Luke Ayling\"],[\"Diego Llorente\"],[\"Robin Koch\"],[\"Pascal Struijk\"],[\"Joel Matip\"],[\"Andrew Robertson\"],[\"Trent Alexander-Arnold\"],[\"Joseph Gomez\"],[\"Nathaniel Phillips\"],[\"Rhys Williams\"],[\"Kyle Walker\"],[\"John Stones\"],[\"Benjamin Mendy\"],[\"Jo\\u00e3o Pedro Cavaco Cancelo\"],[\"Nathan Ak\\u00e9\"],[\"Aymeric Laporte\"],[\"R\\u00faben Santos Gato Alves Dias\"],[\"Oleksandr Zinchenko\"],[\"Harry Maguire\"],[\"Luke Shaw\"],[\"Alex Nicolao Telles\"],[\"Victor Lindel\\u00f6f\"],[\"Eric Bailly\"],[\"Aaron Wan-Bissaka\"],[\"Matt Ritchie\"],[\"Ciaran Clark\"],[\"Jamaal Lascelles\"],[\"Paul Dummett\"],[\"Javier Manquillo\"],[\"Emil Krafth\"],[\"Fabian Sch\\u00e4r\"],[\"Jamal Lewis\"],[\"Federico Fern\\u00e1ndez\"],[\"Jack Stephens\"],[\"Jannik Vestergaard\"],[\"Kyle Walker-Peters\"],[\"Jan Bednarek\"],[\"Mohammed Salisu\"],[\"Toby Alderweireld\"],[\"Serge Aurier\"],[\"Matt Doherty\"],[\"Eric Dier\"],[\"Ben Davies\"],[\"Davinson S\\u00e1nchez\"],[\"Sergio Reguil\\u00f3n\"],[\"Joe Rodon\"],[\"Angelo Ogbonna\"],[\"Aaron Cresswell\"],[\"Craig Dawson\"],[\"Ryan Fredericks\"],[\"Arthur Masuaku\"],[\"Vladimir Coufal\"],[\"Issa Diop\"],[\"Ben Johnson\"],[\"Willy Boly\"],[\"Conor Coady\"],[\"Romain Sa\\u00efss\"],[\"Fernando Mar\\u00e7al\"],[\"N\\u00e9lson Cabral Semedo\"],[\"Max Kilman\"],[\"Ki-Jana Hoever\"]],\"hovertemplate\":\"position=Defender<br>cost=%{x}<br>points_per_90=%{y}<br>total_points=%{marker.size}<br>name=%{customdata[0]}<extra></extra>\",\"legendgroup\":\"Defender\",\"marker\":{\"color\":\"#ab63fa\",\"size\":[28,34,94,36,105,96,78,32,128,138,89,119,64,130,85,96,104,35,109,50,14,102,103,83,113,92,57,93,108,61,139,44,112,18,82,58,81,120,127,79,80,100,109,27,19,94,59,101,26,71,59,100,50,38,71,42,161,160,10,68,28,91,128,63,138,29,58,142,69,124,124,25,102,31,144,52,46,44,40,28,45,30,44,53,41,86,93,94,14,88,80,47,77,52,43,89,27,100,153,75,28,42,128,42,25,68,106,99,19,109,58,13],\"sizemode\":\"area\",\"sizeref\":0.61,\"symbol\":\"circle\"},\"mode\":\"markers\",\"name\":\"Defender\",\"orientation\":\"v\",\"showlegend\":true,\"type\":\"scatter\",\"x\":[4.5,4.5,5.0,4.5,4.5,5.0,5.0,4.5,5.0,5.0,5.0,5.0,4.5,5.0,4.5,4.5,4.5,4.5,5.0,4.5,4.0,5.0,4.5,4.5,6.0,5.5,5.5,5.5,5.5,5.0,6.0,4.5,5.5,4.5,4.5,4.5,5.0,5.5,5.0,5.0,4.5,5.0,5.5,5.5,4.0,5.5,5.0,5.0,4.5,4.5,4.5,4.5,4.5,4.5,4.5,5.0,7.0,7.5,5.0,4.5,4.5,5.5,5.5,5.5,6.0,5.0,5.5,6.0,5.5,5.5,5.5,5.0,5.0,5.0,5.5,5.0,4.5,4.5,4.5,4.0,4.5,4.5,4.5,4.5,4.5,5.0,5.0,4.5,4.5,5.0,5.0,5.0,4.5,4.5,4.5,5.0,4.5,5.0,5.5,5.0,4.5,4.5,5.0,4.5,4.0,5.0,4.5,5.0,4.5,5.0,4.5,4.0],\"xaxis\":\"x\",\"y\":[3.39,3.4,4.05,4.31,3.7,3.76,3.52,4.57,3.61,3.65,3.38,3.35,2.8,3.99,2.95,3.79,2.93,3.55,3.03,3.57,1.98,3.41,3.03,3.08,4.65,4.28,5.35,4.89,4.8,4.0,5.47,1.9,4.26,2.94,2.36,3.05,4.54,4.03,3.82,3.67,3.15,3.35,3.97,2.55,2.38,3.61,2.92,4.39,2.42,2.83,2.43,2.65,3.74,3.03,3.08,5.48,4.28,4.75,1.53,4.21,3.82,4.21,5.96,5.96,5.4,3.27,3.89,4.5,4.22,3.66,4.21,3.27,3.55,3.05,4.24,3.47,2.19,2.44,2.87,3.07,3.15,2.15,2.16,2.29,2.4,3.01,3.16,2.73,1.5,3.54,4.49,3.42,2.75,3.49,2.6,3.57,3.32,3.61,4.34,3.51,4.47,3.76,3.77,2.74,4.36,3.26,2.89,3.7,2.77,3.29,3.99,2.04],\"yaxis\":\"y\"},{\"hovertemplate\":\"<b>OLS trendline</b><br>points_per_90 = 0.952135 * cost + -1.15788<br>R<sup>2</sup>=0.356984<br><br>position=Defender<br>cost=%{x}<br>points_per_90=%{y} <b>(trend)</b><extra></extra>\",\"legendgroup\":\"Defender\",\"marker\":{\"color\":\"#ab63fa\",\"symbol\":\"circle\"},\"mode\":\"lines\",\"name\":\"Defender\",\"showlegend\":false,\"type\":\"scatter\",\"x\":[4.0,4.0,4.0,4.0,4.0,4.5,4.5,4.5,4.5,4.5,4.5,4.5,4.5,4.5,4.5,4.5,4.5,4.5,4.5,4.5,4.5,4.5,4.5,4.5,4.5,4.5,4.5,4.5,4.5,4.5,4.5,4.5,4.5,4.5,4.5,4.5,4.5,4.5,4.5,4.5,4.5,4.5,4.5,4.5,4.5,4.5,4.5,4.5,4.5,4.5,4.5,4.5,5.0,5.0,5.0,5.0,5.0,5.0,5.0,5.0,5.0,5.0,5.0,5.0,5.0,5.0,5.0,5.0,5.0,5.0,5.0,5.0,5.0,5.0,5.0,5.0,5.0,5.0,5.0,5.0,5.0,5.0,5.0,5.0,5.0,5.0,5.0,5.0,5.5,5.5,5.5,5.5,5.5,5.5,5.5,5.5,5.5,5.5,5.5,5.5,5.5,5.5,5.5,5.5,5.5,5.5,6.0,6.0,6.0,6.0,7.0,7.5],\"xaxis\":\"x\",\"y\":[2.6506640726329422,2.6506640726329422,2.6506640726329422,2.6506640726329422,2.6506640726329422,3.126731517509726,3.126731517509726,3.126731517509726,3.126731517509726,3.126731517509726,3.126731517509726,3.126731517509726,3.126731517509726,3.126731517509726,3.126731517509726,3.126731517509726,3.126731517509726,3.126731517509726,3.126731517509726,3.126731517509726,3.126731517509726,3.126731517509726,3.126731517509726,3.126731517509726,3.126731517509726,3.126731517509726,3.126731517509726,3.126731517509726,3.126731517509726,3.126731517509726,3.126731517509726,3.126731517509726,3.126731517509726,3.126731517509726,3.126731517509726,3.126731517509726,3.126731517509726,3.126731517509726,3.126731517509726,3.126731517509726,3.126731517509726,3.126731517509726,3.126731517509726,3.126731517509726,3.126731517509726,3.126731517509726,3.126731517509726,3.126731517509726,3.126731517509726,3.126731517509726,3.126731517509726,3.126731517509726,3.60279896238651,3.60279896238651,3.60279896238651,3.60279896238651,3.60279896238651,3.60279896238651,3.60279896238651,3.60279896238651,3.60279896238651,3.60279896238651,3.60279896238651,3.60279896238651,3.60279896238651,3.60279896238651,3.60279896238651,3.60279896238651,3.60279896238651,3.60279896238651,3.60279896238651,3.60279896238651,3.60279896238651,3.60279896238651,3.60279896238651,3.60279896238651,3.60279896238651,3.60279896238651,3.60279896238651,3.60279896238651,3.60279896238651,3.60279896238651,3.60279896238651,3.60279896238651,3.60279896238651,3.60279896238651,3.60279896238651,3.60279896238651,4.078866407263294,4.078866407263294,4.078866407263294,4.078866407263294,4.078866407263294,4.078866407263294,4.078866407263294,4.078866407263294,4.078866407263294,4.078866407263294,4.078866407263294,4.078866407263294,4.078866407263294,4.078866407263294,4.078866407263294,4.078866407263294,4.078866407263294,4.078866407263294,4.554933852140078,4.554933852140078,4.554933852140078,4.554933852140078,5.5070687418936455,5.983136186770429],\"yaxis\":\"y\"}],                        {\"legend\":{\"itemsizing\":\"constant\",\"title\":{\"text\":\"position\"},\"tracegroupgap\":0},\"margin\":{\"t\":60},\"template\":{\"data\":{\"bar\":[{\"error_x\":{\"color\":\"#2a3f5f\"},\"error_y\":{\"color\":\"#2a3f5f\"},\"marker\":{\"line\":{\"color\":\"#E5ECF6\",\"width\":0.5},\"pattern\":{\"fillmode\":\"overlay\",\"size\":10,\"solidity\":0.2}},\"type\":\"bar\"}],\"barpolar\":[{\"marker\":{\"line\":{\"color\":\"#E5ECF6\",\"width\":0.5},\"pattern\":{\"fillmode\":\"overlay\",\"size\":10,\"solidity\":0.2}},\"type\":\"barpolar\"}],\"carpet\":[{\"aaxis\":{\"endlinecolor\":\"#2a3f5f\",\"gridcolor\":\"white\",\"linecolor\":\"white\",\"minorgridcolor\":\"white\",\"startlinecolor\":\"#2a3f5f\"},\"baxis\":{\"endlinecolor\":\"#2a3f5f\",\"gridcolor\":\"white\",\"linecolor\":\"white\",\"minorgridcolor\":\"white\",\"startlinecolor\":\"#2a3f5f\"},\"type\":\"carpet\"}],\"choropleth\":[{\"colorbar\":{\"outlinewidth\":0,\"ticks\":\"\"},\"type\":\"choropleth\"}],\"contour\":[{\"colorbar\":{\"outlinewidth\":0,\"ticks\":\"\"},\"colorscale\":[[0.0,\"#0d0887\"],[0.1111111111111111,\"#46039f\"],[0.2222222222222222,\"#7201a8\"],[0.3333333333333333,\"#9c179e\"],[0.4444444444444444,\"#bd3786\"],[0.5555555555555556,\"#d8576b\"],[0.6666666666666666,\"#ed7953\"],[0.7777777777777778,\"#fb9f3a\"],[0.8888888888888888,\"#fdca26\"],[1.0,\"#f0f921\"]],\"type\":\"contour\"}],\"contourcarpet\":[{\"colorbar\":{\"outlinewidth\":0,\"ticks\":\"\"},\"type\":\"contourcarpet\"}],\"heatmap\":[{\"colorbar\":{\"outlinewidth\":0,\"ticks\":\"\"},\"colorscale\":[[0.0,\"#0d0887\"],[0.1111111111111111,\"#46039f\"],[0.2222222222222222,\"#7201a8\"],[0.3333333333333333,\"#9c179e\"],[0.4444444444444444,\"#bd3786\"],[0.5555555555555556,\"#d8576b\"],[0.6666666666666666,\"#ed7953\"],[0.7777777777777778,\"#fb9f3a\"],[0.8888888888888888,\"#fdca26\"],[1.0,\"#f0f921\"]],\"type\":\"heatmap\"}],\"heatmapgl\":[{\"colorbar\":{\"outlinewidth\":0,\"ticks\":\"\"},\"colorscale\":[[0.0,\"#0d0887\"],[0.1111111111111111,\"#46039f\"],[0.2222222222222222,\"#7201a8\"],[0.3333333333333333,\"#9c179e\"],[0.4444444444444444,\"#bd3786\"],[0.5555555555555556,\"#d8576b\"],[0.6666666666666666,\"#ed7953\"],[0.7777777777777778,\"#fb9f3a\"],[0.8888888888888888,\"#fdca26\"],[1.0,\"#f0f921\"]],\"type\":\"heatmapgl\"}],\"histogram\":[{\"marker\":{\"pattern\":{\"fillmode\":\"overlay\",\"size\":10,\"solidity\":0.2}},\"type\":\"histogram\"}],\"histogram2d\":[{\"colorbar\":{\"outlinewidth\":0,\"ticks\":\"\"},\"colorscale\":[[0.0,\"#0d0887\"],[0.1111111111111111,\"#46039f\"],[0.2222222222222222,\"#7201a8\"],[0.3333333333333333,\"#9c179e\"],[0.4444444444444444,\"#bd3786\"],[0.5555555555555556,\"#d8576b\"],[0.6666666666666666,\"#ed7953\"],[0.7777777777777778,\"#fb9f3a\"],[0.8888888888888888,\"#fdca26\"],[1.0,\"#f0f921\"]],\"type\":\"histogram2d\"}],\"histogram2dcontour\":[{\"colorbar\":{\"outlinewidth\":0,\"ticks\":\"\"},\"colorscale\":[[0.0,\"#0d0887\"],[0.1111111111111111,\"#46039f\"],[0.2222222222222222,\"#7201a8\"],[0.3333333333333333,\"#9c179e\"],[0.4444444444444444,\"#bd3786\"],[0.5555555555555556,\"#d8576b\"],[0.6666666666666666,\"#ed7953\"],[0.7777777777777778,\"#fb9f3a\"],[0.8888888888888888,\"#fdca26\"],[1.0,\"#f0f921\"]],\"type\":\"histogram2dcontour\"}],\"mesh3d\":[{\"colorbar\":{\"outlinewidth\":0,\"ticks\":\"\"},\"type\":\"mesh3d\"}],\"parcoords\":[{\"line\":{\"colorbar\":{\"outlinewidth\":0,\"ticks\":\"\"}},\"type\":\"parcoords\"}],\"pie\":[{\"automargin\":true,\"type\":\"pie\"}],\"scatter\":[{\"marker\":{\"colorbar\":{\"outlinewidth\":0,\"ticks\":\"\"}},\"type\":\"scatter\"}],\"scatter3d\":[{\"line\":{\"colorbar\":{\"outlinewidth\":0,\"ticks\":\"\"}},\"marker\":{\"colorbar\":{\"outlinewidth\":0,\"ticks\":\"\"}},\"type\":\"scatter3d\"}],\"scattercarpet\":[{\"marker\":{\"colorbar\":{\"outlinewidth\":0,\"ticks\":\"\"}},\"type\":\"scattercarpet\"}],\"scattergeo\":[{\"marker\":{\"colorbar\":{\"outlinewidth\":0,\"ticks\":\"\"}},\"type\":\"scattergeo\"}],\"scattergl\":[{\"marker\":{\"colorbar\":{\"outlinewidth\":0,\"ticks\":\"\"}},\"type\":\"scattergl\"}],\"scattermapbox\":[{\"marker\":{\"colorbar\":{\"outlinewidth\":0,\"ticks\":\"\"}},\"type\":\"scattermapbox\"}],\"scatterpolar\":[{\"marker\":{\"colorbar\":{\"outlinewidth\":0,\"ticks\":\"\"}},\"type\":\"scatterpolar\"}],\"scatterpolargl\":[{\"marker\":{\"colorbar\":{\"outlinewidth\":0,\"ticks\":\"\"}},\"type\":\"scatterpolargl\"}],\"scatterternary\":[{\"marker\":{\"colorbar\":{\"outlinewidth\":0,\"ticks\":\"\"}},\"type\":\"scatterternary\"}],\"surface\":[{\"colorbar\":{\"outlinewidth\":0,\"ticks\":\"\"},\"colorscale\":[[0.0,\"#0d0887\"],[0.1111111111111111,\"#46039f\"],[0.2222222222222222,\"#7201a8\"],[0.3333333333333333,\"#9c179e\"],[0.4444444444444444,\"#bd3786\"],[0.5555555555555556,\"#d8576b\"],[0.6666666666666666,\"#ed7953\"],[0.7777777777777778,\"#fb9f3a\"],[0.8888888888888888,\"#fdca26\"],[1.0,\"#f0f921\"]],\"type\":\"surface\"}],\"table\":[{\"cells\":{\"fill\":{\"color\":\"#EBF0F8\"},\"line\":{\"color\":\"white\"}},\"header\":{\"fill\":{\"color\":\"#C8D4E3\"},\"line\":{\"color\":\"white\"}},\"type\":\"table\"}]},\"layout\":{\"annotationdefaults\":{\"arrowcolor\":\"#2a3f5f\",\"arrowhead\":0,\"arrowwidth\":1},\"autotypenumbers\":\"strict\",\"coloraxis\":{\"colorbar\":{\"outlinewidth\":0,\"ticks\":\"\"}},\"colorscale\":{\"diverging\":[[0,\"#8e0152\"],[0.1,\"#c51b7d\"],[0.2,\"#de77ae\"],[0.3,\"#f1b6da\"],[0.4,\"#fde0ef\"],[0.5,\"#f7f7f7\"],[0.6,\"#e6f5d0\"],[0.7,\"#b8e186\"],[0.8,\"#7fbc41\"],[0.9,\"#4d9221\"],[1,\"#276419\"]],\"sequential\":[[0.0,\"#0d0887\"],[0.1111111111111111,\"#46039f\"],[0.2222222222222222,\"#7201a8\"],[0.3333333333333333,\"#9c179e\"],[0.4444444444444444,\"#bd3786\"],[0.5555555555555556,\"#d8576b\"],[0.6666666666666666,\"#ed7953\"],[0.7777777777777778,\"#fb9f3a\"],[0.8888888888888888,\"#fdca26\"],[1.0,\"#f0f921\"]],\"sequentialminus\":[[0.0,\"#0d0887\"],[0.1111111111111111,\"#46039f\"],[0.2222222222222222,\"#7201a8\"],[0.3333333333333333,\"#9c179e\"],[0.4444444444444444,\"#bd3786\"],[0.5555555555555556,\"#d8576b\"],[0.6666666666666666,\"#ed7953\"],[0.7777777777777778,\"#fb9f3a\"],[0.8888888888888888,\"#fdca26\"],[1.0,\"#f0f921\"]]},\"colorway\":[\"#636efa\",\"#EF553B\",\"#00cc96\",\"#ab63fa\",\"#FFA15A\",\"#19d3f3\",\"#FF6692\",\"#B6E880\",\"#FF97FF\",\"#FECB52\"],\"font\":{\"color\":\"#2a3f5f\"},\"geo\":{\"bgcolor\":\"white\",\"lakecolor\":\"white\",\"landcolor\":\"#E5ECF6\",\"showlakes\":true,\"showland\":true,\"subunitcolor\":\"white\"},\"hoverlabel\":{\"align\":\"left\"},\"hovermode\":\"closest\",\"mapbox\":{\"style\":\"light\"},\"paper_bgcolor\":\"white\",\"plot_bgcolor\":\"#E5ECF6\",\"polar\":{\"angularaxis\":{\"gridcolor\":\"white\",\"linecolor\":\"white\",\"ticks\":\"\"},\"bgcolor\":\"#E5ECF6\",\"radialaxis\":{\"gridcolor\":\"white\",\"linecolor\":\"white\",\"ticks\":\"\"}},\"scene\":{\"xaxis\":{\"backgroundcolor\":\"#E5ECF6\",\"gridcolor\":\"white\",\"gridwidth\":2,\"linecolor\":\"white\",\"showbackground\":true,\"ticks\":\"\",\"zerolinecolor\":\"white\"},\"yaxis\":{\"backgroundcolor\":\"#E5ECF6\",\"gridcolor\":\"white\",\"gridwidth\":2,\"linecolor\":\"white\",\"showbackground\":true,\"ticks\":\"\",\"zerolinecolor\":\"white\"},\"zaxis\":{\"backgroundcolor\":\"#E5ECF6\",\"gridcolor\":\"white\",\"gridwidth\":2,\"linecolor\":\"white\",\"showbackground\":true,\"ticks\":\"\",\"zerolinecolor\":\"white\"}},\"shapedefaults\":{\"line\":{\"color\":\"#2a3f5f\"}},\"ternary\":{\"aaxis\":{\"gridcolor\":\"white\",\"linecolor\":\"white\",\"ticks\":\"\"},\"baxis\":{\"gridcolor\":\"white\",\"linecolor\":\"white\",\"ticks\":\"\"},\"bgcolor\":\"#E5ECF6\",\"caxis\":{\"gridcolor\":\"white\",\"linecolor\":\"white\",\"ticks\":\"\"}},\"title\":{\"x\":0.05},\"xaxis\":{\"automargin\":true,\"gridcolor\":\"white\",\"linecolor\":\"white\",\"ticks\":\"\",\"title\":{\"standoff\":15},\"zerolinecolor\":\"white\",\"zerolinewidth\":2},\"yaxis\":{\"automargin\":true,\"gridcolor\":\"white\",\"linecolor\":\"white\",\"ticks\":\"\",\"title\":{\"standoff\":15},\"zerolinecolor\":\"white\",\"zerolinewidth\":2}}},\"xaxis\":{\"anchor\":\"y\",\"domain\":[0.0,1.0],\"title\":{\"text\":\"cost\"}},\"yaxis\":{\"anchor\":\"x\",\"domain\":[0.0,1.0],\"title\":{\"text\":\"points_per_90\"}}},                        {\"responsive\": true}                    ).then(function(){\n",
       "                            \n",
       "var gd = document.getElementById('64617099-f6e1-4a33-aeb6-ff2ed14b0edf');\n",
       "var x = new MutationObserver(function (mutations, observer) {{\n",
       "        var display = window.getComputedStyle(gd).display;\n",
       "        if (!display || display === 'none') {{\n",
       "            console.log([gd, 'removed!']);\n",
       "            Plotly.purge(gd);\n",
       "            observer.disconnect();\n",
       "        }}\n",
       "}});\n",
       "\n",
       "// Listen for the removal of the full notebook cells\n",
       "var notebookContainer = gd.closest('#notebook-container');\n",
       "if (notebookContainer) {{\n",
       "    x.observe(notebookContainer, {childList: true});\n",
       "}}\n",
       "\n",
       "// Listen for the clearing of the current output cell\n",
       "var outputEl = gd.closest('.output');\n",
       "if (outputEl) {{\n",
       "    x.observe(outputEl, {childList: true});\n",
       "}}\n",
       "\n",
       "                        })                };                });            </script>        </div>"
      ]
     },
     "metadata": {},
     "output_type": "display_data"
    }
   ],
   "source": [
    "import requests\n",
    "import pandas as pd\n",
    "import numpy as np\n",
    "import matplotlib as plt\n",
    "import plotly.express as px\n",
    "# For plotly to work you also need to install the statsmodels package as well\n",
    "\n",
    "# Get live data from FPL site. Not necessary to do every time. \n",
    "# TODO: Write to a file and pull from that instead\n",
    "url = 'https://fantasy.premierleague.com/api/bootstrap-static/'\n",
    "r = requests.get(url)\n",
    "json = r.json()\n",
    "json.keys()\n",
    "\n",
    "elements_df = pd.DataFrame(json['elements'])\n",
    "elements_types_df = pd.DataFrame(json['element_types'])\n",
    "teams_df = pd.DataFrame(json['teams'])\n",
    "\n",
    "# Uncomment to see all columns\n",
    "# elements_df.columns\n",
    "\n",
    "# Adding .copy() operation to avoid hidden chaining and ensuring data integrity\n",
    "slim_elements_df = elements_df[['first_name','second_name', 'team', 'element_type','selected_by_percent','now_cost','minutes','total_points', 'value_season']].copy()\n",
    "\n",
    "# Change from positional values to their actual names\n",
    "slim_elements_df['position'] = slim_elements_df.element_type.map(elements_types_df.set_index('id').singular_name)\n",
    "\n",
    "# Replace team integer IDs with actual team names\n",
    "slim_elements_df['team'] = slim_elements_df.team.map(teams_df.set_index('id').name)\n",
    "\n",
    "# Add value column as a float type, so we can then use it fo\n",
    "slim_elements_df['value'] = slim_elements_df.value_season.astype(float)\n",
    "\n",
    "slim_elements_df = slim_elements_df.loc[slim_elements_df.value > 0]\n",
    "slim_elements_df = slim_elements_df.loc[slim_elements_df.minutes > 500]\n",
    "\n",
    "# TODO: Divide points by minutes * 90 to get points per 90, that over cost is better than value. minutes can be size\n",
    "# TODO: Drop Stuart Dallas and anyone injured\n",
    "\n",
    "# Combinging first and last name into a single column\n",
    "slim_elements_df['name'] = slim_elements_df['first_name'] + ' ' + slim_elements_df['second_name']\n",
    "\n",
    "# Convert now_cost into cost, make it a decimal\n",
    "slim_elements_df['cost'] = (slim_elements_df.now_cost.astype(float) / 10)\n",
    "\n",
    "# Create a points per 90 minutes column, rounding to 2 decimal places\n",
    "slim_elements_df['points_per_90'] = (slim_elements_df['total_points'] / slim_elements_df['minutes'] * 90).round(2)\n",
    "\n",
    "# Creating a final dataframe with only the elements we want again\n",
    "\n",
    "fpl_players = slim_elements_df[['name', 'position', 'minutes', 'cost', 'total_points', 'value', 'points_per_90']]\n",
    "#fpl_players.head(10)\n",
    "\n",
    "# Generating position specific tables if you want\n",
    "# mid_df = fpl_players.loc[slim_elements_df.position == 'Midfielder']\n",
    "# Output a table of the top 35 midfielders by points per 90\n",
    "#mid_df.sort_values(by=['points_per_90'],ascending=False).head(35)\n",
    "\n",
    "\n",
    "\n",
    "# Make a scatter graph of points per 90 by cost\n",
    "\n",
    "value_plot = px.scatter(fpl_players,\n",
    "                           x='cost',\n",
    "                           y='points_per_90',\n",
    "                           size='total_points',\n",
    "                           trendline=\"ols\",\n",
    "                           color='position',\n",
    "                           hover_data=['name'])\n",
    "value_plot.write_html(\"/home/adam/jupyter/fpl_value_plot.html\")\n",
    "value_plot.show()\n"
   ]
  },
  {
   "cell_type": "code",
   "execution_count": null,
   "metadata": {},
   "outputs": [],
   "source": []
  },
  {
   "cell_type": "code",
   "execution_count": null,
   "metadata": {},
   "outputs": [],
   "source": []
  },
  {
   "cell_type": "code",
   "execution_count": null,
   "metadata": {},
   "outputs": [],
   "source": []
  }
 ],
 "metadata": {
  "kernelspec": {
   "display_name": "Python 3",
   "language": "python",
   "name": "python3"
  },
  "language_info": {
   "codemirror_mode": {
    "name": "ipython",
    "version": 3
   },
   "file_extension": ".py",
   "mimetype": "text/x-python",
   "name": "python",
   "nbconvert_exporter": "python",
   "pygments_lexer": "ipython3",
   "version": "3.8.10"
  }
 },
 "nbformat": 4,
 "nbformat_minor": 4
}
